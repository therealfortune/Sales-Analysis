{
    "metadata": {
        "kernelspec": {
            "name": "SQL",
            "display_name": "SQL",
            "language": "sql"
        },
        "language_info": {
            "name": "sql",
            "version": ""
        }
    },
    "nbformat_minor": 2,
    "nbformat": 4,
    "cells": [
        {
            "cell_type": "code",
            "source": [
                "SELECT TOP 5 *\r\n",
                "FROM Orders"
            ],
            "metadata": {
                "azdata_cell_guid": "d3a38a40-ecd7-4ce4-8ada-6a39edba6278",
                "language": "sql"
            },
            "outputs": [
                {
                    "output_type": "display_data",
                    "data": {
                        "text/html": "(5 rows affected)"
                    },
                    "metadata": {}
                },
                {
                    "output_type": "display_data",
                    "data": {
                        "text/html": "Total execution time: 00:00:00.146"
                    },
                    "metadata": {}
                },
                {
                    "output_type": "execute_result",
                    "execution_count": 1,
                    "data": {
                        "application/vnd.dataresource+json": {
                            "schema": {
                                "fields": [
                                    {
                                        "name": "order_id"
                                    },
                                    {
                                        "name": "order_date"
                                    },
                                    {
                                        "name": "ship_date"
                                    },
                                    {
                                        "name": "ship_mode"
                                    },
                                    {
                                        "name": "customer_name"
                                    },
                                    {
                                        "name": "segment"
                                    },
                                    {
                                        "name": "state"
                                    },
                                    {
                                        "name": "country"
                                    },
                                    {
                                        "name": "market"
                                    },
                                    {
                                        "name": "region"
                                    },
                                    {
                                        "name": "product_id"
                                    },
                                    {
                                        "name": "category"
                                    },
                                    {
                                        "name": "sub_category"
                                    },
                                    {
                                        "name": "product_name"
                                    },
                                    {
                                        "name": "sales"
                                    },
                                    {
                                        "name": "quantity"
                                    },
                                    {
                                        "name": "discount"
                                    },
                                    {
                                        "name": "profit"
                                    },
                                    {
                                        "name": "shipping_cost"
                                    },
                                    {
                                        "name": "order_priority"
                                    },
                                    {
                                        "name": "year"
                                    }
                                ]
                            },
                            "data": [
                                {
                                    "0": "ES-2011-2469850",
                                    "1": "2011-08-04 00:00:00.000",
                                    "2": "2011-08-06 00:00:00.000",
                                    "3": "Second Class",
                                    "4": "Michelle Lonsdale",
                                    "5": "Corporate",
                                    "6": "Provence-Alpes-Côte d'Azur",
                                    "7": "France",
                                    "8": "EU",
                                    "9": "Central",
                                    "10": "OFF-AR-10004519",
                                    "11": "Office Supplies",
                                    "12": "Art",
                                    "13": "Boston Canvas, Fluorescent",
                                    "14": "439.20000000000005",
                                    "15": "8",
                                    "16": "0",
                                    "17": "78.96000000000001",
                                    "18": "95.76",
                                    "19": "Critical",
                                    "20": "2011"
                                },
                                {
                                    "0": "IR-2011-6550",
                                    "1": "2011-08-04 00:00:00.000",
                                    "2": "2011-08-06 00:00:00.000",
                                    "3": "Second Class",
                                    "4": "Jennifer Patt",
                                    "5": "Corporate",
                                    "6": "Razavi Khorasan",
                                    "7": "Iran",
                                    "8": "EMEA",
                                    "9": "EMEA",
                                    "10": "FUR-BUS-10000332",
                                    "11": "Furniture",
                                    "12": "Bookcases",
                                    "13": "Bush Library with Doors, Traditional",
                                    "14": "728.64",
                                    "15": "2",
                                    "16": "0",
                                    "17": "36.42",
                                    "18": "91.98",
                                    "19": "High",
                                    "20": "2011"
                                },
                                {
                                    "0": "SA-2011-1570",
                                    "1": "2011-08-04 00:00:00.000",
                                    "2": "2011-08-09 00:00:00.000",
                                    "3": "Standard Class",
                                    "4": "Ritsa Hightower",
                                    "5": "Consumer",
                                    "6": "Ar Riyad",
                                    "7": "Saudi Arabia",
                                    "8": "EMEA",
                                    "9": "EMEA",
                                    "10": "FUR-IKE-10004853",
                                    "11": "Furniture",
                                    "12": "Bookcases",
                                    "13": "Ikea Corner Shelving, Mobile",
                                    "14": "1758.1200000000001",
                                    "15": "14",
                                    "16": "0",
                                    "17": "228.48000000000002",
                                    "18": "91.73",
                                    "19": "Medium",
                                    "20": "2011"
                                },
                                {
                                    "0": "IN-2011-59685",
                                    "1": "2011-08-04 00:00:00.000",
                                    "2": "2011-08-08 00:00:00.000",
                                    "3": "Standard Class",
                                    "4": "Bryan Mills",
                                    "5": "Consumer",
                                    "6": "Tamil Nadu",
                                    "7": "India",
                                    "8": "APAC",
                                    "9": "Central Asia",
                                    "10": "TEC-CO-10001204",
                                    "11": "Technology",
                                    "12": "Copiers",
                                    "13": "Sharp Copy Machine, Color",
                                    "14": "963.3599999999999",
                                    "15": "4",
                                    "16": "0",
                                    "17": "154.07999999999998",
                                    "18": "87.26",
                                    "19": "Medium",
                                    "20": "2011"
                                },
                                {
                                    "0": "SA-2011-1570",
                                    "1": "2011-08-04 00:00:00.000",
                                    "2": "2011-08-09 00:00:00.000",
                                    "3": "Standard Class",
                                    "4": "Ritsa Hightower",
                                    "5": "Consumer",
                                    "6": "Ar Riyad",
                                    "7": "Saudi Arabia",
                                    "8": "EMEA",
                                    "9": "EMEA",
                                    "10": "FUR-IKE-10003682",
                                    "11": "Furniture",
                                    "12": "Bookcases",
                                    "13": "Ikea Corner Shelving, Metal",
                                    "14": "735.1200000000001",
                                    "15": "6",
                                    "16": "0",
                                    "17": "29.339999999999996",
                                    "18": "69.66",
                                    "19": "Medium",
                                    "20": "2011"
                                }
                            ]
                        },
                        "text/html": "<table><tr><th>order_id</th><th>order_date</th><th>ship_date</th><th>ship_mode</th><th>customer_name</th><th>segment</th><th>state</th><th>country</th><th>market</th><th>region</th><th>product_id</th><th>category</th><th>sub_category</th><th>product_name</th><th>sales</th><th>quantity</th><th>discount</th><th>profit</th><th>shipping_cost</th><th>order_priority</th><th>year</th></tr><tr><td>ES-2011-2469850</td><td>2011-08-04 00:00:00.000</td><td>2011-08-06 00:00:00.000</td><td>Second Class</td><td>Michelle Lonsdale</td><td>Corporate</td><td>Provence-Alpes-Côte d'Azur</td><td>France</td><td>EU</td><td>Central</td><td>OFF-AR-10004519</td><td>Office Supplies</td><td>Art</td><td>Boston Canvas, Fluorescent</td><td>439.20000000000005</td><td>8</td><td>0</td><td>78.96000000000001</td><td>95.76</td><td>Critical</td><td>2011</td></tr><tr><td>IR-2011-6550</td><td>2011-08-04 00:00:00.000</td><td>2011-08-06 00:00:00.000</td><td>Second Class</td><td>Jennifer Patt</td><td>Corporate</td><td>Razavi Khorasan</td><td>Iran</td><td>EMEA</td><td>EMEA</td><td>FUR-BUS-10000332</td><td>Furniture</td><td>Bookcases</td><td>Bush Library with Doors, Traditional</td><td>728.64</td><td>2</td><td>0</td><td>36.42</td><td>91.98</td><td>High</td><td>2011</td></tr><tr><td>SA-2011-1570</td><td>2011-08-04 00:00:00.000</td><td>2011-08-09 00:00:00.000</td><td>Standard Class</td><td>Ritsa Hightower</td><td>Consumer</td><td>Ar Riyad</td><td>Saudi Arabia</td><td>EMEA</td><td>EMEA</td><td>FUR-IKE-10004853</td><td>Furniture</td><td>Bookcases</td><td>Ikea Corner Shelving, Mobile</td><td>1758.1200000000001</td><td>14</td><td>0</td><td>228.48000000000002</td><td>91.73</td><td>Medium</td><td>2011</td></tr><tr><td>IN-2011-59685</td><td>2011-08-04 00:00:00.000</td><td>2011-08-08 00:00:00.000</td><td>Standard Class</td><td>Bryan Mills</td><td>Consumer</td><td>Tamil Nadu</td><td>India</td><td>APAC</td><td>Central Asia</td><td>TEC-CO-10001204</td><td>Technology</td><td>Copiers</td><td>Sharp Copy Machine, Color</td><td>963.3599999999999</td><td>4</td><td>0</td><td>154.07999999999998</td><td>87.26</td><td>Medium</td><td>2011</td></tr><tr><td>SA-2011-1570</td><td>2011-08-04 00:00:00.000</td><td>2011-08-09 00:00:00.000</td><td>Standard Class</td><td>Ritsa Hightower</td><td>Consumer</td><td>Ar Riyad</td><td>Saudi Arabia</td><td>EMEA</td><td>EMEA</td><td>FUR-IKE-10003682</td><td>Furniture</td><td>Bookcases</td><td>Ikea Corner Shelving, Metal</td><td>735.1200000000001</td><td>6</td><td>0</td><td>29.339999999999996</td><td>69.66</td><td>Medium</td><td>2011</td></tr></table>"
                    },
                    "metadata": {}
                }
            ],
            "execution_count": 1
        },
        {
            "cell_type": "code",
            "source": [
                "SELECT TOP 2 * \r\n",
                "FROM [Returns];"
            ],
            "metadata": {
                "azdata_cell_guid": "993dc87b-ad2d-4953-8963-64a65e37d745",
                "language": "sql"
            },
            "outputs": [
                {
                    "output_type": "display_data",
                    "data": {
                        "text/html": "(2 rows affected)"
                    },
                    "metadata": {}
                },
                {
                    "output_type": "display_data",
                    "data": {
                        "text/html": "Total execution time: 00:00:00.017"
                    },
                    "metadata": {}
                },
                {
                    "output_type": "execute_result",
                    "execution_count": 2,
                    "data": {
                        "application/vnd.dataresource+json": {
                            "schema": {
                                "fields": [
                                    {
                                        "name": "Returned"
                                    },
                                    {
                                        "name": "Order ID"
                                    },
                                    {
                                        "name": "Market"
                                    }
                                ]
                            },
                            "data": [
                                {
                                    "0": "Yes",
                                    "1": "MX-2013-168137",
                                    "2": "LATAM"
                                },
                                {
                                    "0": "Yes",
                                    "1": "US-2011-165316",
                                    "2": "LATAM"
                                }
                            ]
                        },
                        "text/html": "<table><tr><th>Returned</th><th>Order ID</th><th>Market</th></tr><tr><td>Yes</td><td>MX-2013-168137</td><td>LATAM</td></tr><tr><td>Yes</td><td>US-2011-165316</td><td>LATAM</td></tr></table>"
                    },
                    "metadata": {}
                }
            ],
            "execution_count": 2
        },
        {
            "cell_type": "code",
            "source": [
                "SELECT TOP 2 * \r\n",
                "FROM People;"
            ],
            "metadata": {
                "azdata_cell_guid": "c04ad78f-22c9-438c-8d49-1f540fe48f9e",
                "language": "sql",
                "tags": []
            },
            "outputs": [
                {
                    "output_type": "display_data",
                    "data": {
                        "text/html": "(2 rows affected)"
                    },
                    "metadata": {}
                },
                {
                    "output_type": "display_data",
                    "data": {
                        "text/html": "Total execution time: 00:00:00.019"
                    },
                    "metadata": {}
                },
                {
                    "output_type": "execute_result",
                    "execution_count": 3,
                    "data": {
                        "application/vnd.dataresource+json": {
                            "schema": {
                                "fields": [
                                    {
                                        "name": "Person"
                                    },
                                    {
                                        "name": "Region"
                                    }
                                ]
                            },
                            "data": [
                                {
                                    "0": "Anna Andreadi",
                                    "1": "Central"
                                },
                                {
                                    "0": "Chuck Magee",
                                    "1": "South"
                                }
                            ]
                        },
                        "text/html": "<table><tr><th>Person</th><th>Region</th></tr><tr><td>Anna Andreadi</td><td>Central</td></tr><tr><td>Chuck Magee</td><td>South</td></tr></table>"
                    },
                    "metadata": {}
                }
            ],
            "execution_count": 3
        },
        {
            "cell_type": "markdown",
            "source": [
                "CREATING A VIEW TO ACCESS THE ORDERS AND RETURNS TABLE TOGETHER"
            ],
            "metadata": {
                "language": "sql",
                "azdata_cell_guid": "7b5eb93a-e585-43a5-9ee6-33c2b0c4a9fb"
            }
        },
        {
            "cell_type": "code",
            "source": [
                "USE Projects\r\n",
                "GO \r\n",
                "CREATE OR ALTER VIEW [Order_Returns]\r\n",
                "AS\r\n",
                "SELECT o.*, r.Returned\r\n",
                "FROM [Orders] [o]\r\n",
                "    JOIN [Returns] [r]\r\n",
                "        ON o.[order_id] = r.[Order ID]"
            ],
            "metadata": {
                "azdata_cell_guid": "dfb615ea-1caa-415e-a297-abe4ae74f4f0",
                "language": "sql"
            },
            "outputs": [
                {
                    "output_type": "display_data",
                    "data": {
                        "text/html": "Commands completed successfully."
                    },
                    "metadata": {}
                },
                {
                    "output_type": "display_data",
                    "data": {
                        "text/html": "Commands completed successfully."
                    },
                    "metadata": {}
                },
                {
                    "output_type": "display_data",
                    "data": {
                        "text/html": "Total execution time: 00:00:00.015"
                    },
                    "metadata": {}
                }
            ],
            "execution_count": 7
        },
        {
            "cell_type": "code",
            "source": [
                "SELECT TOP 5 * \r\n",
                "FROM [Order_Returns];"
            ],
            "metadata": {
                "azdata_cell_guid": "5454a0a0-8237-4328-b902-636ea2e4d66f",
                "language": "sql"
            },
            "outputs": [
                {
                    "output_type": "display_data",
                    "data": {
                        "text/html": "(5 rows affected)"
                    },
                    "metadata": {}
                },
                {
                    "output_type": "display_data",
                    "data": {
                        "text/html": "Total execution time: 00:00:00.059"
                    },
                    "metadata": {}
                },
                {
                    "output_type": "execute_result",
                    "execution_count": 9,
                    "data": {
                        "application/vnd.dataresource+json": {
                            "schema": {
                                "fields": [
                                    {
                                        "name": "order_id"
                                    },
                                    {
                                        "name": "order_date"
                                    },
                                    {
                                        "name": "ship_date"
                                    },
                                    {
                                        "name": "ship_mode"
                                    },
                                    {
                                        "name": "customer_name"
                                    },
                                    {
                                        "name": "segment"
                                    },
                                    {
                                        "name": "state"
                                    },
                                    {
                                        "name": "country"
                                    },
                                    {
                                        "name": "market"
                                    },
                                    {
                                        "name": "region"
                                    },
                                    {
                                        "name": "product_id"
                                    },
                                    {
                                        "name": "category"
                                    },
                                    {
                                        "name": "sub_category"
                                    },
                                    {
                                        "name": "product_name"
                                    },
                                    {
                                        "name": "sales"
                                    },
                                    {
                                        "name": "quantity"
                                    },
                                    {
                                        "name": "discount"
                                    },
                                    {
                                        "name": "profit"
                                    },
                                    {
                                        "name": "shipping_cost"
                                    },
                                    {
                                        "name": "order_priority"
                                    },
                                    {
                                        "name": "year"
                                    },
                                    {
                                        "name": "Returned"
                                    }
                                ]
                            },
                            "data": [
                                {
                                    "0": "CA-2011-126361",
                                    "1": "2011-08-04 00:00:00.000",
                                    "2": "2011-08-09 00:00:00.000",
                                    "3": "Second Class",
                                    "4": "Valerie Dominguez",
                                    "5": "Consumer",
                                    "6": "Utah",
                                    "7": "United States",
                                    "8": "US",
                                    "9": "West",
                                    "10": "OFF-PA-10000806",
                                    "11": "Office Supplies",
                                    "12": "Paper",
                                    "13": "Xerox 1934",
                                    "14": "447.84",
                                    "15": "8",
                                    "16": "0",
                                    "17": "219.4416",
                                    "18": "64.74",
                                    "19": "High",
                                    "20": "2011",
                                    "21": "Yes"
                                },
                                {
                                    "0": "CA-2011-126361",
                                    "1": "2011-08-04 00:00:00.000",
                                    "2": "2011-08-09 00:00:00.000",
                                    "3": "Second Class",
                                    "4": "Valerie Dominguez",
                                    "5": "Consumer",
                                    "6": "Utah",
                                    "7": "United States",
                                    "8": "US",
                                    "9": "West",
                                    "10": "TEC-PH-10002310",
                                    "11": "Technology",
                                    "12": "Phones",
                                    "13": "Panasonic KX T7731-B Digital phone",
                                    "14": "399.96000000000004",
                                    "15": "5",
                                    "16": "0.2",
                                    "17": "34.99649999999997",
                                    "18": "53.41",
                                    "19": "High",
                                    "20": "2011",
                                    "21": "Yes"
                                },
                                {
                                    "0": "CA-2011-126361",
                                    "1": "2011-08-04 00:00:00.000",
                                    "2": "2011-08-09 00:00:00.000",
                                    "3": "Second Class",
                                    "4": "Valerie Dominguez",
                                    "5": "Consumer",
                                    "6": "Utah",
                                    "7": "United States",
                                    "8": "US",
                                    "9": "West",
                                    "10": "OFF-ST-10002289",
                                    "11": "Office Supplies",
                                    "12": "Storage",
                                    "13": "Safco Wire Cube Shelving System, For Use as 4 or 5 14\" Cubes, Black",
                                    "14": "158.9",
                                    "15": "5",
                                    "16": "0",
                                    "17": "7.944999999999993",
                                    "18": "15.1",
                                    "19": "High",
                                    "20": "2011",
                                    "21": "Yes"
                                },
                                {
                                    "0": "CA-2011-126361",
                                    "1": "2011-08-04 00:00:00.000",
                                    "2": "2011-08-09 00:00:00.000",
                                    "3": "Second Class",
                                    "4": "Valerie Dominguez",
                                    "5": "Consumer",
                                    "6": "Utah",
                                    "7": "United States",
                                    "8": "US",
                                    "9": "West",
                                    "10": "OFF-BI-10002852",
                                    "11": "Office Supplies",
                                    "12": "Binders",
                                    "13": "Ibico Standard Transparent Covers",
                                    "14": "13.184000000000001",
                                    "15": "1",
                                    "16": "0.2",
                                    "17": "4.7792",
                                    "18": "1.57",
                                    "19": "High",
                                    "20": "2011",
                                    "21": "Yes"
                                },
                                {
                                    "0": "CA-2011-126361",
                                    "1": "2011-08-04 00:00:00.000",
                                    "2": "2011-08-09 00:00:00.000",
                                    "3": "Second Class",
                                    "4": "Valerie Dominguez",
                                    "5": "Consumer",
                                    "6": "Utah",
                                    "7": "United States",
                                    "8": "US",
                                    "9": "West",
                                    "10": "OFF-AR-10000896",
                                    "11": "Office Supplies",
                                    "12": "Art",
                                    "13": "Newell 329",
                                    "14": "16.4",
                                    "15": "5",
                                    "16": "0",
                                    "17": "4.263999999999999",
                                    "18": "0.41",
                                    "19": "High",
                                    "20": "2011",
                                    "21": "Yes"
                                }
                            ]
                        },
                        "text/html": "<table><tr><th>order_id</th><th>order_date</th><th>ship_date</th><th>ship_mode</th><th>customer_name</th><th>segment</th><th>state</th><th>country</th><th>market</th><th>region</th><th>product_id</th><th>category</th><th>sub_category</th><th>product_name</th><th>sales</th><th>quantity</th><th>discount</th><th>profit</th><th>shipping_cost</th><th>order_priority</th><th>year</th><th>Returned</th></tr><tr><td>CA-2011-126361</td><td>2011-08-04 00:00:00.000</td><td>2011-08-09 00:00:00.000</td><td>Second Class</td><td>Valerie Dominguez</td><td>Consumer</td><td>Utah</td><td>United States</td><td>US</td><td>West</td><td>OFF-PA-10000806</td><td>Office Supplies</td><td>Paper</td><td>Xerox 1934</td><td>447.84</td><td>8</td><td>0</td><td>219.4416</td><td>64.74</td><td>High</td><td>2011</td><td>Yes</td></tr><tr><td>CA-2011-126361</td><td>2011-08-04 00:00:00.000</td><td>2011-08-09 00:00:00.000</td><td>Second Class</td><td>Valerie Dominguez</td><td>Consumer</td><td>Utah</td><td>United States</td><td>US</td><td>West</td><td>TEC-PH-10002310</td><td>Technology</td><td>Phones</td><td>Panasonic KX T7731-B Digital phone</td><td>399.96000000000004</td><td>5</td><td>0.2</td><td>34.99649999999997</td><td>53.41</td><td>High</td><td>2011</td><td>Yes</td></tr><tr><td>CA-2011-126361</td><td>2011-08-04 00:00:00.000</td><td>2011-08-09 00:00:00.000</td><td>Second Class</td><td>Valerie Dominguez</td><td>Consumer</td><td>Utah</td><td>United States</td><td>US</td><td>West</td><td>OFF-ST-10002289</td><td>Office Supplies</td><td>Storage</td><td>Safco Wire Cube Shelving System, For Use as 4 or 5 14&quot; Cubes, Black</td><td>158.9</td><td>5</td><td>0</td><td>7.944999999999993</td><td>15.1</td><td>High</td><td>2011</td><td>Yes</td></tr><tr><td>CA-2011-126361</td><td>2011-08-04 00:00:00.000</td><td>2011-08-09 00:00:00.000</td><td>Second Class</td><td>Valerie Dominguez</td><td>Consumer</td><td>Utah</td><td>United States</td><td>US</td><td>West</td><td>OFF-BI-10002852</td><td>Office Supplies</td><td>Binders</td><td>Ibico Standard Transparent Covers</td><td>13.184000000000001</td><td>1</td><td>0.2</td><td>4.7792</td><td>1.57</td><td>High</td><td>2011</td><td>Yes</td></tr><tr><td>CA-2011-126361</td><td>2011-08-04 00:00:00.000</td><td>2011-08-09 00:00:00.000</td><td>Second Class</td><td>Valerie Dominguez</td><td>Consumer</td><td>Utah</td><td>United States</td><td>US</td><td>West</td><td>OFF-AR-10000896</td><td>Office Supplies</td><td>Art</td><td>Newell 329</td><td>16.4</td><td>5</td><td>0</td><td>4.263999999999999</td><td>0.41</td><td>High</td><td>2011</td><td>Yes</td></tr></table>"
                    },
                    "metadata": {}
                }
            ],
            "execution_count": 9
        }
    ]
}