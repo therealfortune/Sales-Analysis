{
    "metadata": {
        "kernelspec": {
            "name": "python3",
            "display_name": "Python 3 (ipykernel)",
            "language": "python"
        },
        "language_info": {
            "name": "python",
            "version": "3.8.10",
            "mimetype": "text/x-python",
            "codemirror_mode": {
                "name": "ipython",
                "version": 3
            },
            "pygments_lexer": "ipython3",
            "nbconvert_exporter": "python",
            "file_extension": ".py"
        }
    },
    "nbformat_minor": 2,
    "nbformat": 4,
    "cells": [
        {
            "cell_type": "code",
            "source": [
                "import pandas as pd \r\n",
                "import numpy as np\r\n",
                "import seaborn as sns\r\n",
                "import matplotlib.pyplot as plt"
            ],
            "metadata": {
                "azdata_cell_guid": "a3bbf02a-ae92-476a-84c8-e9b5b9c49c36",
                "language": "python"
            },
            "outputs": [],
            "execution_count": 2
        },
        {
            "cell_type": "code",
            "source": [
                "orders = pd.read_excel('superstore_sales.xlsx', sheet_name=\"Orders\")\r\n",
                "people = pd.read_excel('superstore_sales.xlsx', sheet_name=\"People\")\r\n",
                "returns = pd.read_excel('superstore_sales.xlsx', sheet_name=\"Returns\")"
            ],
            "metadata": {
                "azdata_cell_guid": "4acdaef0-9752-483d-b1b0-9b0b8631cd9c",
                "language": "python"
            },
            "outputs": [],
            "execution_count": 3
        },
        {
            "cell_type": "code",
            "source": [
                "df = orders.copy()"
            ],
            "metadata": {
                "azdata_cell_guid": "d8038eb6-fe3d-4ed1-88ce-9223f7660a0d",
                "language": "python"
            },
            "outputs": [],
            "execution_count": 4
        },
        {
            "cell_type": "code",
            "source": [
                "df.head(3)"
            ],
            "metadata": {
                "azdata_cell_guid": "c7cd49b2-b460-47fb-b1e3-2d524d6f61d0",
                "language": "python"
            },
            "outputs": [
                {
                    "data": {
                        "text/plain": "        order_id order_date  ship_date       ship_mode    customer_name  \\\n0   AG-2011-2040 2011-01-01 2011-01-06  Standard Class  Toby Braunhardt   \n1  IN-2011-47883 2011-01-01 2011-01-08  Standard Class      Joseph Holt   \n2   HU-2011-1220 2011-01-01 2011-01-05    Second Class    Annie Thurman   \n\n    segment            state    country  market   region  ...  \\\n0  Consumer      Constantine    Algeria  Africa   Africa  ...   \n1  Consumer  New South Wales  Australia    APAC  Oceania  ...   \n2  Consumer         Budapest    Hungary    EMEA     EMEA  ...   \n\n          category sub_category              product_name    sales  quantity  \\\n0  Office Supplies      Storage       Tenex Lockers, Blue  408.300         2   \n1  Office Supplies     Supplies  Acme Trimmer, High Speed  120.366         3   \n2  Office Supplies      Storage   Tenex Box, Single Width   66.120         4   \n\n   discount   profit  shipping_cost  order_priority  year  \n0       0.0  106.140          35.46          Medium  2011  \n1       0.1   36.036           9.72          Medium  2011  \n2       0.0   29.640           8.17            High  2011  \n\n[3 rows x 21 columns]",
                        "text/html": "<div>\n<style scoped>\n    .dataframe tbody tr th:only-of-type {\n        vertical-align: middle;\n    }\n\n    .dataframe tbody tr th {\n        vertical-align: top;\n    }\n\n    .dataframe thead th {\n        text-align: right;\n    }\n</style>\n<table border=\"1\" class=\"dataframe\">\n  <thead>\n    <tr style=\"text-align: right;\">\n      <th></th>\n      <th>order_id</th>\n      <th>order_date</th>\n      <th>ship_date</th>\n      <th>ship_mode</th>\n      <th>customer_name</th>\n      <th>segment</th>\n      <th>state</th>\n      <th>country</th>\n      <th>market</th>\n      <th>region</th>\n      <th>...</th>\n      <th>category</th>\n      <th>sub_category</th>\n      <th>product_name</th>\n      <th>sales</th>\n      <th>quantity</th>\n      <th>discount</th>\n      <th>profit</th>\n      <th>shipping_cost</th>\n      <th>order_priority</th>\n      <th>year</th>\n    </tr>\n  </thead>\n  <tbody>\n    <tr>\n      <th>0</th>\n      <td>AG-2011-2040</td>\n      <td>2011-01-01</td>\n      <td>2011-01-06</td>\n      <td>Standard Class</td>\n      <td>Toby Braunhardt</td>\n      <td>Consumer</td>\n      <td>Constantine</td>\n      <td>Algeria</td>\n      <td>Africa</td>\n      <td>Africa</td>\n      <td>...</td>\n      <td>Office Supplies</td>\n      <td>Storage</td>\n      <td>Tenex Lockers, Blue</td>\n      <td>408.300</td>\n      <td>2</td>\n      <td>0.0</td>\n      <td>106.140</td>\n      <td>35.46</td>\n      <td>Medium</td>\n      <td>2011</td>\n    </tr>\n    <tr>\n      <th>1</th>\n      <td>IN-2011-47883</td>\n      <td>2011-01-01</td>\n      <td>2011-01-08</td>\n      <td>Standard Class</td>\n      <td>Joseph Holt</td>\n      <td>Consumer</td>\n      <td>New South Wales</td>\n      <td>Australia</td>\n      <td>APAC</td>\n      <td>Oceania</td>\n      <td>...</td>\n      <td>Office Supplies</td>\n      <td>Supplies</td>\n      <td>Acme Trimmer, High Speed</td>\n      <td>120.366</td>\n      <td>3</td>\n      <td>0.1</td>\n      <td>36.036</td>\n      <td>9.72</td>\n      <td>Medium</td>\n      <td>2011</td>\n    </tr>\n    <tr>\n      <th>2</th>\n      <td>HU-2011-1220</td>\n      <td>2011-01-01</td>\n      <td>2011-01-05</td>\n      <td>Second Class</td>\n      <td>Annie Thurman</td>\n      <td>Consumer</td>\n      <td>Budapest</td>\n      <td>Hungary</td>\n      <td>EMEA</td>\n      <td>EMEA</td>\n      <td>...</td>\n      <td>Office Supplies</td>\n      <td>Storage</td>\n      <td>Tenex Box, Single Width</td>\n      <td>66.120</td>\n      <td>4</td>\n      <td>0.0</td>\n      <td>29.640</td>\n      <td>8.17</td>\n      <td>High</td>\n      <td>2011</td>\n    </tr>\n  </tbody>\n</table>\n<p>3 rows × 21 columns</p>\n</div>"
                    },
                    "metadata": {},
                    "execution_count": 5,
                    "output_type": "execute_result"
                }
            ],
            "execution_count": 5
        },
        {
            "cell_type": "code",
            "source": [
                "df.shape"
            ],
            "metadata": {
                "azdata_cell_guid": "4f11bf8d-67a1-4186-ac0e-ac832c19fd0b",
                "language": "python"
            },
            "outputs": [
                {
                    "data": {
                        "text/plain": "(51290, 21)"
                    },
                    "metadata": {},
                    "execution_count": 6,
                    "output_type": "execute_result"
                }
            ],
            "execution_count": 6
        },
        {
            "cell_type": "markdown",
            "source": [
                "Check for missing values."
            ],
            "metadata": {
                "language": "python",
                "azdata_cell_guid": "1481a305-bd7d-45e0-b71b-028414eaaaa3"
            },
            "attachments": {}
        },
        {
            "cell_type": "code",
            "source": [
                "df.isnull().sum()"
            ],
            "metadata": {
                "azdata_cell_guid": "804e3299-62c1-4da5-aa57-cc7d59758677",
                "language": "python"
            },
            "outputs": [
                {
                    "data": {
                        "text/plain": "order_id          0\norder_date        0\nship_date         0\nship_mode         0\ncustomer_name     0\nsegment           0\nstate             0\ncountry           0\nmarket            0\nregion            0\nproduct_id        0\ncategory          0\nsub_category      0\nproduct_name      0\nsales             0\nquantity          0\ndiscount          0\nprofit            0\nshipping_cost     0\norder_priority    0\nyear              0\ndtype: int64"
                    },
                    "metadata": {},
                    "execution_count": 7,
                    "output_type": "execute_result"
                }
            ],
            "execution_count": 7
        },
        {
            "cell_type": "code",
            "source": [
                "df.describe()"
            ],
            "metadata": {
                "language": "python",
                "azdata_cell_guid": "6c92b470-9ab8-4df2-8295-7ec5bcd6a5cb"
            },
            "outputs": [
                {
                    "data": {
                        "text/plain": "              sales      quantity      discount        profit  shipping_cost  \\\ncount  51290.000000  51290.000000  51290.000000  51290.000000   51290.000000   \nmean     246.490581      3.476545      0.142908     28.641740      26.375818   \nstd      487.565361      2.278766      0.212280    174.424113      57.296810   \nmin        0.444000      1.000000      0.000000  -6599.978000       0.002000   \n25%       30.758625      2.000000      0.000000      0.000000       2.610000   \n50%       85.053000      3.000000      0.000000      9.240000       7.790000   \n75%      251.053200      5.000000      0.200000     36.810000      24.450000   \nmax    22638.480000     14.000000      0.850000   8399.976000     933.570000   \n\n               year  \ncount  51290.000000  \nmean    2012.777208  \nstd        1.098931  \nmin     2011.000000  \n25%     2012.000000  \n50%     2013.000000  \n75%     2014.000000  \nmax     2014.000000  ",
                        "text/html": "<div>\n<style scoped>\n    .dataframe tbody tr th:only-of-type {\n        vertical-align: middle;\n    }\n\n    .dataframe tbody tr th {\n        vertical-align: top;\n    }\n\n    .dataframe thead th {\n        text-align: right;\n    }\n</style>\n<table border=\"1\" class=\"dataframe\">\n  <thead>\n    <tr style=\"text-align: right;\">\n      <th></th>\n      <th>sales</th>\n      <th>quantity</th>\n      <th>discount</th>\n      <th>profit</th>\n      <th>shipping_cost</th>\n      <th>year</th>\n    </tr>\n  </thead>\n  <tbody>\n    <tr>\n      <th>count</th>\n      <td>51290.000000</td>\n      <td>51290.000000</td>\n      <td>51290.000000</td>\n      <td>51290.000000</td>\n      <td>51290.000000</td>\n      <td>51290.000000</td>\n    </tr>\n    <tr>\n      <th>mean</th>\n      <td>246.490581</td>\n      <td>3.476545</td>\n      <td>0.142908</td>\n      <td>28.641740</td>\n      <td>26.375818</td>\n      <td>2012.777208</td>\n    </tr>\n    <tr>\n      <th>std</th>\n      <td>487.565361</td>\n      <td>2.278766</td>\n      <td>0.212280</td>\n      <td>174.424113</td>\n      <td>57.296810</td>\n      <td>1.098931</td>\n    </tr>\n    <tr>\n      <th>min</th>\n      <td>0.444000</td>\n      <td>1.000000</td>\n      <td>0.000000</td>\n      <td>-6599.978000</td>\n      <td>0.002000</td>\n      <td>2011.000000</td>\n    </tr>\n    <tr>\n      <th>25%</th>\n      <td>30.758625</td>\n      <td>2.000000</td>\n      <td>0.000000</td>\n      <td>0.000000</td>\n      <td>2.610000</td>\n      <td>2012.000000</td>\n    </tr>\n    <tr>\n      <th>50%</th>\n      <td>85.053000</td>\n      <td>3.000000</td>\n      <td>0.000000</td>\n      <td>9.240000</td>\n      <td>7.790000</td>\n      <td>2013.000000</td>\n    </tr>\n    <tr>\n      <th>75%</th>\n      <td>251.053200</td>\n      <td>5.000000</td>\n      <td>0.200000</td>\n      <td>36.810000</td>\n      <td>24.450000</td>\n      <td>2014.000000</td>\n    </tr>\n    <tr>\n      <th>max</th>\n      <td>22638.480000</td>\n      <td>14.000000</td>\n      <td>0.850000</td>\n      <td>8399.976000</td>\n      <td>933.570000</td>\n      <td>2014.000000</td>\n    </tr>\n  </tbody>\n</table>\n</div>"
                    },
                    "metadata": {},
                    "execution_count": 8,
                    "output_type": "execute_result"
                }
            ],
            "execution_count": 8
        },
        {
            "cell_type": "markdown",
            "source": [
                "**1\\. PRODUCTS**"
            ],
            "metadata": {
                "language": "python",
                "azdata_cell_guid": "8e439ee1-9309-465a-9284-1a9d736d2d1b"
            },
            "attachments": {}
        },
        {
            "cell_type": "markdown",
            "source": [
                "What product has the most sales"
            ],
            "metadata": {
                "language": "python",
                "azdata_cell_guid": "06665646-ceed-4c05-a4e3-d17ec22d6259"
            },
            "attachments": {}
        },
        {
            "cell_type": "code",
            "source": [
                "# Check the number of distinct products available\r\n",
                "count = 0\r\n",
                "distinct = []\r\n",
                "\r\n",
                "for i in range(0, len(df['product_name'])) :\r\n",
                "    if df['product_name'][i] not in distinct:\r\n",
                "        distinct.append(df['product_name'][i])\r\n",
                "        count += 1\r\n",
                "print(\"Dataset has \", count, \"distinct products\")\r\n",
                "#Alternatively\r\n",
                "# print(len(pd.unique(df['product_name'])))"
            ],
            "metadata": {
                "azdata_cell_guid": "e9e10eba-ad26-453c-99c1-c44a32321642",
                "language": "python"
            },
            "outputs": [
                {
                    "name": "stdout",
                    "text": "Dataset has  3788 distinct products\n",
                    "output_type": "stream"
                }
            ],
            "execution_count": 9
        },
        {
            "cell_type": "code",
            "source": [
                "# Get the products with the most sales\r\n",
                "# MSP = Most Sold Products\r\n",
                "msp = df.groupby('product_name').agg({'quantity': 'sum'}).sort_values('quantity', ascending=False)\r\n",
                "topten = msp.head(10)\r\n",
                "topten"
            ],
            "metadata": {
                "azdata_cell_guid": "88da06fc-dfad-4a8e-9cc8-1a9faea35c75",
                "language": "python",
                "tags": []
            },
            "outputs": [
                {
                    "data": {
                        "text/plain": "                                       quantity\nproduct_name                                   \nStaples                                     876\nCardinal Index Tab, Clear                   337\nEldon File Cart, Single Width               321\nRogers File Cart, Single Width              262\nSanford Pencil Sharpener, Water Color       259\nStockwell Paper Clips, Assorted Sizes       253\nAvery Index Tab, Clear                      252\nIbico Index Tab, Clear                      251\nSmead File Cart, Single Width               250\nStanley Pencil Sharpener, Water Color       242",
                        "text/html": "<div>\n<style scoped>\n    .dataframe tbody tr th:only-of-type {\n        vertical-align: middle;\n    }\n\n    .dataframe tbody tr th {\n        vertical-align: top;\n    }\n\n    .dataframe thead th {\n        text-align: right;\n    }\n</style>\n<table border=\"1\" class=\"dataframe\">\n  <thead>\n    <tr style=\"text-align: right;\">\n      <th></th>\n      <th>quantity</th>\n    </tr>\n    <tr>\n      <th>product_name</th>\n      <th></th>\n    </tr>\n  </thead>\n  <tbody>\n    <tr>\n      <th>Staples</th>\n      <td>876</td>\n    </tr>\n    <tr>\n      <th>Cardinal Index Tab, Clear</th>\n      <td>337</td>\n    </tr>\n    <tr>\n      <th>Eldon File Cart, Single Width</th>\n      <td>321</td>\n    </tr>\n    <tr>\n      <th>Rogers File Cart, Single Width</th>\n      <td>262</td>\n    </tr>\n    <tr>\n      <th>Sanford Pencil Sharpener, Water Color</th>\n      <td>259</td>\n    </tr>\n    <tr>\n      <th>Stockwell Paper Clips, Assorted Sizes</th>\n      <td>253</td>\n    </tr>\n    <tr>\n      <th>Avery Index Tab, Clear</th>\n      <td>252</td>\n    </tr>\n    <tr>\n      <th>Ibico Index Tab, Clear</th>\n      <td>251</td>\n    </tr>\n    <tr>\n      <th>Smead File Cart, Single Width</th>\n      <td>250</td>\n    </tr>\n    <tr>\n      <th>Stanley Pencil Sharpener, Water Color</th>\n      <td>242</td>\n    </tr>\n  </tbody>\n</table>\n</div>"
                    },
                    "metadata": {},
                    "execution_count": 10,
                    "output_type": "execute_result"
                }
            ],
            "execution_count": 10
        },
        {
            "cell_type": "markdown",
            "source": [
                "LET US CHECK HOW MANY PRODUCTS HAVE SIMILAR NAME"
            ],
            "metadata": {
                "language": "python",
                "azdata_cell_guid": "19e02c8c-a8f2-48a6-b734-f5c2f1e87962"
            },
            "attachments": {}
        },
        {
            "cell_type": "code",
            "source": [
                "sim = [col for col in df['product_name'] if 'Index Tab' in col]\r\n",
                "# To check any other similar names , switch the Index Tab with any column of your choice\r\n",
                "count = 0\r\n",
                "new = []\r\n",
                "for i in range(0, len(sim)):\r\n",
                "    if sim[i] not in new :\r\n",
                "        new.append(sim[i])\r\n",
                "        count += 1\r\n",
                "print(count)\r\n",
                "print(new)\r\n",
                "\r\n",
                "# Alternatively\r\n",
                "\r\n",
                "# bb=dict(zip(list(sim),[list(sim).count(i) for i in list(sim)]))\r\n",
                "# print(bb)"
            ],
            "metadata": {
                "azdata_cell_guid": "cfd1cc30-92bb-4779-ba21-1218891dcde5",
                "language": "python"
            },
            "outputs": [
                {
                    "name": "stdout",
                    "text": "17\n['Ibico Index Tab, Durable', 'Avery Index Tab, Economy', 'Avery Index Tab, Clear', 'Ibico Index Tab, Clear', 'Cardinal Index Tab, Economy', 'Cardinal Index Tab, Clear', 'Avery Index Tab, Durable', 'Acco Index Tab, Clear', 'Wilson Jones Index Tab, Economy', 'Acco Index Tab, Durable', 'Cardinal Index Tab, Durable', 'Ibico Index Tab, Economy', 'Wilson Jones Index Tab, Recycled', 'Wilson Jones Index Tab, Durable', 'Acco Index Tab, Economy', 'Wilson Jones Index Tab, Clear', 'Computer Printout Index Tabs']\n",
                    "output_type": "stream"
                }
            ],
            "execution_count": 11
        },
        {
            "cell_type": "code",
            "source": [
                "# Products with the most profut\r\n",
                "# mpp =  most profitable products\r\n",
                "\r\n",
                "mpp = df.groupby('product_name').agg({'profit' : 'sum'})\r\n",
                "\r\n",
                "mpp.nlargest(5,'profit')\r\n",
                "\r\n",
                ""
            ],
            "metadata": {
                "azdata_cell_guid": "733cfb1e-966d-430a-9938-17373f69e499",
                "language": "python"
            },
            "outputs": [
                {
                    "data": {
                        "text/plain": "                                           profit\nproduct_name                                     \nCanon imageCLASS 2200 Advanced Copier  25199.9280\nCisco Smart Phone, Full Size           17238.5206\nMotorola Smart Phone, Full Size        17027.1130\nHoover Stove, Red                      11807.9690\nSauder Classic Bookcase, Traditional   10672.0730",
                        "text/html": "<div>\n<style scoped>\n    .dataframe tbody tr th:only-of-type {\n        vertical-align: middle;\n    }\n\n    .dataframe tbody tr th {\n        vertical-align: top;\n    }\n\n    .dataframe thead th {\n        text-align: right;\n    }\n</style>\n<table border=\"1\" class=\"dataframe\">\n  <thead>\n    <tr style=\"text-align: right;\">\n      <th></th>\n      <th>profit</th>\n    </tr>\n    <tr>\n      <th>product_name</th>\n      <th></th>\n    </tr>\n  </thead>\n  <tbody>\n    <tr>\n      <th>Canon imageCLASS 2200 Advanced Copier</th>\n      <td>25199.9280</td>\n    </tr>\n    <tr>\n      <th>Cisco Smart Phone, Full Size</th>\n      <td>17238.5206</td>\n    </tr>\n    <tr>\n      <th>Motorola Smart Phone, Full Size</th>\n      <td>17027.1130</td>\n    </tr>\n    <tr>\n      <th>Hoover Stove, Red</th>\n      <td>11807.9690</td>\n    </tr>\n    <tr>\n      <th>Sauder Classic Bookcase, Traditional</th>\n      <td>10672.0730</td>\n    </tr>\n  </tbody>\n</table>\n</div>"
                    },
                    "metadata": {},
                    "execution_count": 12,
                    "output_type": "execute_result"
                }
            ],
            "execution_count": 12
        },
        {
            "cell_type": "code",
            "source": [
                "filtered = df.copy()\r\n",
                "diff_date = (df['ship_date'] - df['order_date'])/ np.timedelta64(1, 'D')\r\n",
                ""
            ],
            "metadata": {
                "azdata_cell_guid": "dd6402bb-eed9-47a5-ab46-957650765ff2",
                "language": "python",
                "tags": []
            },
            "outputs": [],
            "execution_count": 13
        },
        {
            "cell_type": "code",
            "source": [
                "filtered['diff_date'] = diff_date"
            ],
            "metadata": {
                "azdata_cell_guid": "216a2e8a-6128-47a6-bcaa-3d1bac2128c7",
                "language": "python"
            },
            "outputs": [],
            "execution_count": 14
        },
        {
            "cell_type": "code",
            "source": [
                "filt = filtered.pop('diff_date')\r\n",
                "filtered.insert(3, 'diff_date', filt)\r\n",
                ""
            ],
            "metadata": {
                "azdata_cell_guid": "72aa5fe8-acfc-4cde-929e-102d7a6ccfdb",
                "language": "python"
            },
            "outputs": [],
            "execution_count": 15
        },
        {
            "cell_type": "code",
            "source": [
                "filtered.head(5)"
            ],
            "metadata": {
                "azdata_cell_guid": "5843da9c-118e-43ba-8b76-9a07bfc426d1",
                "language": "python"
            },
            "outputs": [
                {
                    "data": {
                        "text/plain": "          order_id order_date  ship_date  diff_date       ship_mode  \\\n0     AG-2011-2040 2011-01-01 2011-01-06        5.0  Standard Class   \n1    IN-2011-47883 2011-01-01 2011-01-08        7.0  Standard Class   \n2     HU-2011-1220 2011-01-01 2011-01-05        4.0    Second Class   \n3  IT-2011-3647632 2011-01-01 2011-01-05        4.0    Second Class   \n4    IN-2011-47883 2011-01-01 2011-01-08        7.0  Standard Class   \n\n     customer_name      segment            state    country  market  ...  \\\n0  Toby Braunhardt     Consumer      Constantine    Algeria  Africa  ...   \n1      Joseph Holt     Consumer  New South Wales  Australia    APAC  ...   \n2    Annie Thurman     Consumer         Budapest    Hungary    EMEA  ...   \n3     Eugene Moren  Home Office        Stockholm     Sweden      EU  ...   \n4      Joseph Holt     Consumer  New South Wales  Australia    APAC  ...   \n\n          category sub_category                 product_name    sales  \\\n0  Office Supplies      Storage          Tenex Lockers, Blue  408.300   \n1  Office Supplies     Supplies     Acme Trimmer, High Speed  120.366   \n2  Office Supplies      Storage      Tenex Box, Single Width   66.120   \n3  Office Supplies        Paper  Enermax Note Cards, Premium   44.865   \n4        Furniture  Furnishings   Eldon Light Bulb, Duo Pack  113.670   \n\n  quantity  discount   profit  shipping_cost  order_priority  year  \n0        2       0.0  106.140          35.46          Medium  2011  \n1        3       0.1   36.036           9.72          Medium  2011  \n2        4       0.0   29.640           8.17            High  2011  \n3        3       0.5  -26.055           4.82            High  2011  \n4        5       0.1   37.770           4.70          Medium  2011  \n\n[5 rows x 22 columns]",
                        "text/html": "<div>\n<style scoped>\n    .dataframe tbody tr th:only-of-type {\n        vertical-align: middle;\n    }\n\n    .dataframe tbody tr th {\n        vertical-align: top;\n    }\n\n    .dataframe thead th {\n        text-align: right;\n    }\n</style>\n<table border=\"1\" class=\"dataframe\">\n  <thead>\n    <tr style=\"text-align: right;\">\n      <th></th>\n      <th>order_id</th>\n      <th>order_date</th>\n      <th>ship_date</th>\n      <th>diff_date</th>\n      <th>ship_mode</th>\n      <th>customer_name</th>\n      <th>segment</th>\n      <th>state</th>\n      <th>country</th>\n      <th>market</th>\n      <th>...</th>\n      <th>category</th>\n      <th>sub_category</th>\n      <th>product_name</th>\n      <th>sales</th>\n      <th>quantity</th>\n      <th>discount</th>\n      <th>profit</th>\n      <th>shipping_cost</th>\n      <th>order_priority</th>\n      <th>year</th>\n    </tr>\n  </thead>\n  <tbody>\n    <tr>\n      <th>0</th>\n      <td>AG-2011-2040</td>\n      <td>2011-01-01</td>\n      <td>2011-01-06</td>\n      <td>5.0</td>\n      <td>Standard Class</td>\n      <td>Toby Braunhardt</td>\n      <td>Consumer</td>\n      <td>Constantine</td>\n      <td>Algeria</td>\n      <td>Africa</td>\n      <td>...</td>\n      <td>Office Supplies</td>\n      <td>Storage</td>\n      <td>Tenex Lockers, Blue</td>\n      <td>408.300</td>\n      <td>2</td>\n      <td>0.0</td>\n      <td>106.140</td>\n      <td>35.46</td>\n      <td>Medium</td>\n      <td>2011</td>\n    </tr>\n    <tr>\n      <th>1</th>\n      <td>IN-2011-47883</td>\n      <td>2011-01-01</td>\n      <td>2011-01-08</td>\n      <td>7.0</td>\n      <td>Standard Class</td>\n      <td>Joseph Holt</td>\n      <td>Consumer</td>\n      <td>New South Wales</td>\n      <td>Australia</td>\n      <td>APAC</td>\n      <td>...</td>\n      <td>Office Supplies</td>\n      <td>Supplies</td>\n      <td>Acme Trimmer, High Speed</td>\n      <td>120.366</td>\n      <td>3</td>\n      <td>0.1</td>\n      <td>36.036</td>\n      <td>9.72</td>\n      <td>Medium</td>\n      <td>2011</td>\n    </tr>\n    <tr>\n      <th>2</th>\n      <td>HU-2011-1220</td>\n      <td>2011-01-01</td>\n      <td>2011-01-05</td>\n      <td>4.0</td>\n      <td>Second Class</td>\n      <td>Annie Thurman</td>\n      <td>Consumer</td>\n      <td>Budapest</td>\n      <td>Hungary</td>\n      <td>EMEA</td>\n      <td>...</td>\n      <td>Office Supplies</td>\n      <td>Storage</td>\n      <td>Tenex Box, Single Width</td>\n      <td>66.120</td>\n      <td>4</td>\n      <td>0.0</td>\n      <td>29.640</td>\n      <td>8.17</td>\n      <td>High</td>\n      <td>2011</td>\n    </tr>\n    <tr>\n      <th>3</th>\n      <td>IT-2011-3647632</td>\n      <td>2011-01-01</td>\n      <td>2011-01-05</td>\n      <td>4.0</td>\n      <td>Second Class</td>\n      <td>Eugene Moren</td>\n      <td>Home Office</td>\n      <td>Stockholm</td>\n      <td>Sweden</td>\n      <td>EU</td>\n      <td>...</td>\n      <td>Office Supplies</td>\n      <td>Paper</td>\n      <td>Enermax Note Cards, Premium</td>\n      <td>44.865</td>\n      <td>3</td>\n      <td>0.5</td>\n      <td>-26.055</td>\n      <td>4.82</td>\n      <td>High</td>\n      <td>2011</td>\n    </tr>\n    <tr>\n      <th>4</th>\n      <td>IN-2011-47883</td>\n      <td>2011-01-01</td>\n      <td>2011-01-08</td>\n      <td>7.0</td>\n      <td>Standard Class</td>\n      <td>Joseph Holt</td>\n      <td>Consumer</td>\n      <td>New South Wales</td>\n      <td>Australia</td>\n      <td>APAC</td>\n      <td>...</td>\n      <td>Furniture</td>\n      <td>Furnishings</td>\n      <td>Eldon Light Bulb, Duo Pack</td>\n      <td>113.670</td>\n      <td>5</td>\n      <td>0.1</td>\n      <td>37.770</td>\n      <td>4.70</td>\n      <td>Medium</td>\n      <td>2011</td>\n    </tr>\n  </tbody>\n</table>\n<p>5 rows × 22 columns</p>\n</div>"
                    },
                    "metadata": {},
                    "execution_count": 16,
                    "output_type": "execute_result"
                }
            ],
            "execution_count": 16
        },
        {
            "cell_type": "code",
            "source": [
                "filtered['month'] = pd.DatetimeIndex(filtered['order_date']).month "
            ],
            "metadata": {
                "azdata_cell_guid": "0116e1cc-a27c-4d2b-9eae-c2729df87f59",
                "language": "python"
            },
            "outputs": [],
            "execution_count": 17
        },
        {
            "cell_type": "code",
            "source": [
                "filtered['month'] = filtered.month.apply(lambda x : str(int(x)).zfill(2))"
            ],
            "metadata": {
                "azdata_cell_guid": "edd59cea-9a65-4a7c-bd39-298b651887d8",
                "language": "python"
            },
            "outputs": [],
            "execution_count": 18
        },
        {
            "cell_type": "code",
            "source": [
                "filtered.head(2)"
            ],
            "metadata": {
                "azdata_cell_guid": "24838772-ff32-4ca4-a56a-e6feca31f85c",
                "language": "python"
            },
            "outputs": [
                {
                    "data": {
                        "text/plain": "        order_id order_date  ship_date  diff_date       ship_mode  \\\n0   AG-2011-2040 2011-01-01 2011-01-06        5.0  Standard Class   \n1  IN-2011-47883 2011-01-01 2011-01-08        7.0  Standard Class   \n\n     customer_name   segment            state    country  market  ...  \\\n0  Toby Braunhardt  Consumer      Constantine    Algeria  Africa  ...   \n1      Joseph Holt  Consumer  New South Wales  Australia    APAC  ...   \n\n  sub_category              product_name    sales quantity discount   profit  \\\n0      Storage       Tenex Lockers, Blue  408.300        2      0.0  106.140   \n1     Supplies  Acme Trimmer, High Speed  120.366        3      0.1   36.036   \n\n   shipping_cost  order_priority  year  month  \n0          35.46          Medium  2011     01  \n1           9.72          Medium  2011     01  \n\n[2 rows x 23 columns]",
                        "text/html": "<div>\n<style scoped>\n    .dataframe tbody tr th:only-of-type {\n        vertical-align: middle;\n    }\n\n    .dataframe tbody tr th {\n        vertical-align: top;\n    }\n\n    .dataframe thead th {\n        text-align: right;\n    }\n</style>\n<table border=\"1\" class=\"dataframe\">\n  <thead>\n    <tr style=\"text-align: right;\">\n      <th></th>\n      <th>order_id</th>\n      <th>order_date</th>\n      <th>ship_date</th>\n      <th>diff_date</th>\n      <th>ship_mode</th>\n      <th>customer_name</th>\n      <th>segment</th>\n      <th>state</th>\n      <th>country</th>\n      <th>market</th>\n      <th>...</th>\n      <th>sub_category</th>\n      <th>product_name</th>\n      <th>sales</th>\n      <th>quantity</th>\n      <th>discount</th>\n      <th>profit</th>\n      <th>shipping_cost</th>\n      <th>order_priority</th>\n      <th>year</th>\n      <th>month</th>\n    </tr>\n  </thead>\n  <tbody>\n    <tr>\n      <th>0</th>\n      <td>AG-2011-2040</td>\n      <td>2011-01-01</td>\n      <td>2011-01-06</td>\n      <td>5.0</td>\n      <td>Standard Class</td>\n      <td>Toby Braunhardt</td>\n      <td>Consumer</td>\n      <td>Constantine</td>\n      <td>Algeria</td>\n      <td>Africa</td>\n      <td>...</td>\n      <td>Storage</td>\n      <td>Tenex Lockers, Blue</td>\n      <td>408.300</td>\n      <td>2</td>\n      <td>0.0</td>\n      <td>106.140</td>\n      <td>35.46</td>\n      <td>Medium</td>\n      <td>2011</td>\n      <td>01</td>\n    </tr>\n    <tr>\n      <th>1</th>\n      <td>IN-2011-47883</td>\n      <td>2011-01-01</td>\n      <td>2011-01-08</td>\n      <td>7.0</td>\n      <td>Standard Class</td>\n      <td>Joseph Holt</td>\n      <td>Consumer</td>\n      <td>New South Wales</td>\n      <td>Australia</td>\n      <td>APAC</td>\n      <td>...</td>\n      <td>Supplies</td>\n      <td>Acme Trimmer, High Speed</td>\n      <td>120.366</td>\n      <td>3</td>\n      <td>0.1</td>\n      <td>36.036</td>\n      <td>9.72</td>\n      <td>Medium</td>\n      <td>2011</td>\n      <td>01</td>\n    </tr>\n  </tbody>\n</table>\n<p>2 rows × 23 columns</p>\n</div>"
                    },
                    "metadata": {},
                    "execution_count": 19,
                    "output_type": "execute_result"
                }
            ],
            "execution_count": 19
        },
        {
            "cell_type": "code",
            "source": [
                "# stt = ship_mode to time\r\n",
                "stt = filtered.groupby('ship_mode').agg({'diff_date' : 'mean'}).sort_values('diff_date', ascending = False)"
            ],
            "metadata": {
                "azdata_cell_guid": "8e575840-c37c-4763-ac66-69dbac8983d2",
                "language": "python"
            },
            "outputs": [],
            "execution_count": 20
        },
        {
            "cell_type": "code",
            "source": [
                "stt = stt['diff_date'].round(2)\r\n",
                "stt"
            ],
            "metadata": {
                "azdata_cell_guid": "131d33c5-744b-4e54-ad2b-de1773255076",
                "language": "python"
            },
            "outputs": [
                {
                    "data": {
                        "text/plain": "ship_mode\nStandard Class    5.00\nSecond Class      3.23\nFirst Class       2.18\nSame Day          0.04\nName: diff_date, dtype: float64"
                    },
                    "metadata": {},
                    "execution_count": 21,
                    "output_type": "execute_result"
                }
            ],
            "execution_count": 21
        },
        {
            "cell_type": "code",
            "source": [
                "# stp = ship_mode to profit\r\n",
                "stp = filtered.groupby('ship_mode').agg({'profit' : 'sum'}).sort_values('profit', ascending= False)"
            ],
            "metadata": {
                "azdata_cell_guid": "9490d8ad-ef15-4767-83ae-3081f7f03114",
                "language": "python"
            },
            "outputs": [],
            "execution_count": 22
        },
        {
            "cell_type": "code",
            "source": [
                "stp = stp['profit'].round()\r\n",
                "stp"
            ],
            "metadata": {
                "azdata_cell_guid": "39fa81b3-e53c-47dc-bf02-30ba900e9bff",
                "language": "python"
            },
            "outputs": [
                {
                    "data": {
                        "text/plain": "ship_mode\nStandard Class    890596.0\nSecond Class      294161.0\nFirst Class       208105.0\nSame Day           76173.0\nName: profit, dtype: float64"
                    },
                    "metadata": {},
                    "execution_count": 23,
                    "output_type": "execute_result"
                }
            ],
            "execution_count": 23
        },
        {
            "cell_type": "markdown",
            "source": [
                "Let us see how the shipping mode affects the delivery and the profit made"
            ],
            "metadata": {
                "language": "python",
                "azdata_cell_guid": "28b47f7d-5c4f-4c8b-9c64-afd6813b7605"
            },
            "attachments": {}
        },
        {
            "cell_type": "code",
            "source": [
                "ship = pd.merge(stt, stp, how= 'inner', on= 'ship_mode')"
            ],
            "metadata": {
                "azdata_cell_guid": "80ce68b1-f44e-4717-848c-b16f5530e897",
                "language": "python"
            },
            "outputs": [],
            "execution_count": 24
        },
        {
            "cell_type": "code",
            "source": [
                "ship"
            ],
            "metadata": {
                "azdata_cell_guid": "677a39b9-0b93-4d38-84e4-3ad823626303",
                "language": "python"
            },
            "outputs": [
                {
                    "data": {
                        "text/plain": "                diff_date    profit\nship_mode                          \nStandard Class       5.00  890596.0\nSecond Class         3.23  294161.0\nFirst Class          2.18  208105.0\nSame Day             0.04   76173.0",
                        "text/html": "<div>\n<style scoped>\n    .dataframe tbody tr th:only-of-type {\n        vertical-align: middle;\n    }\n\n    .dataframe tbody tr th {\n        vertical-align: top;\n    }\n\n    .dataframe thead th {\n        text-align: right;\n    }\n</style>\n<table border=\"1\" class=\"dataframe\">\n  <thead>\n    <tr style=\"text-align: right;\">\n      <th></th>\n      <th>diff_date</th>\n      <th>profit</th>\n    </tr>\n    <tr>\n      <th>ship_mode</th>\n      <th></th>\n      <th></th>\n    </tr>\n  </thead>\n  <tbody>\n    <tr>\n      <th>Standard Class</th>\n      <td>5.00</td>\n      <td>890596.0</td>\n    </tr>\n    <tr>\n      <th>Second Class</th>\n      <td>3.23</td>\n      <td>294161.0</td>\n    </tr>\n    <tr>\n      <th>First Class</th>\n      <td>2.18</td>\n      <td>208105.0</td>\n    </tr>\n    <tr>\n      <th>Same Day</th>\n      <td>0.04</td>\n      <td>76173.0</td>\n    </tr>\n  </tbody>\n</table>\n</div>"
                    },
                    "metadata": {},
                    "execution_count": 25,
                    "output_type": "execute_result"
                }
            ],
            "execution_count": 25
        },
        {
            "cell_type": "code",
            "source": [
                "mss = df.groupby('segment').agg({'quantity': 'sum'}).sort_values('quantity', ascending=False)"
            ],
            "metadata": {
                "azdata_cell_guid": "b0c9c829-adfb-4193-80d9-9c9dd5156541",
                "language": "python"
            },
            "outputs": [],
            "execution_count": 26
        },
        {
            "cell_type": "code",
            "source": [
                "mss"
            ],
            "metadata": {
                "azdata_cell_guid": "06e4ee23-88d9-469a-a5c6-920bedc93fda",
                "language": "python"
            },
            "outputs": [
                {
                    "data": {
                        "text/plain": "             quantity\nsegment              \nConsumer        92157\nCorporate       53565\nHome Office     32590",
                        "text/html": "<div>\n<style scoped>\n    .dataframe tbody tr th:only-of-type {\n        vertical-align: middle;\n    }\n\n    .dataframe tbody tr th {\n        vertical-align: top;\n    }\n\n    .dataframe thead th {\n        text-align: right;\n    }\n</style>\n<table border=\"1\" class=\"dataframe\">\n  <thead>\n    <tr style=\"text-align: right;\">\n      <th></th>\n      <th>quantity</th>\n    </tr>\n    <tr>\n      <th>segment</th>\n      <th></th>\n    </tr>\n  </thead>\n  <tbody>\n    <tr>\n      <th>Consumer</th>\n      <td>92157</td>\n    </tr>\n    <tr>\n      <th>Corporate</th>\n      <td>53565</td>\n    </tr>\n    <tr>\n      <th>Home Office</th>\n      <td>32590</td>\n    </tr>\n  </tbody>\n</table>\n</div>"
                    },
                    "metadata": {},
                    "execution_count": 27,
                    "output_type": "execute_result"
                }
            ],
            "execution_count": 27
        },
        {
            "cell_type": "code",
            "source": [
                "mps = df.groupby('segment').agg({'profit': 'sum'}).sort_values('profit', ascending=False)"
            ],
            "metadata": {
                "azdata_cell_guid": "1c5af6dd-b69f-4698-a3dc-81aef7a9432e",
                "language": "python"
            },
            "outputs": [],
            "execution_count": 28
        },
        {
            "cell_type": "code",
            "source": [
                "mps.nlargest(3, 'profit')"
            ],
            "metadata": {
                "azdata_cell_guid": "c401573f-3bcb-44e1-a9de-2128b160ee37",
                "language": "python"
            },
            "outputs": [
                {
                    "data": {
                        "text/plain": "                   profit\nsegment                  \nConsumer     749239.78206\nCorporate    442785.85866\nHome Office  277009.18056",
                        "text/html": "<div>\n<style scoped>\n    .dataframe tbody tr th:only-of-type {\n        vertical-align: middle;\n    }\n\n    .dataframe tbody tr th {\n        vertical-align: top;\n    }\n\n    .dataframe thead th {\n        text-align: right;\n    }\n</style>\n<table border=\"1\" class=\"dataframe\">\n  <thead>\n    <tr style=\"text-align: right;\">\n      <th></th>\n      <th>profit</th>\n    </tr>\n    <tr>\n      <th>segment</th>\n      <th></th>\n    </tr>\n  </thead>\n  <tbody>\n    <tr>\n      <th>Consumer</th>\n      <td>749239.78206</td>\n    </tr>\n    <tr>\n      <th>Corporate</th>\n      <td>442785.85866</td>\n    </tr>\n    <tr>\n      <th>Home Office</th>\n      <td>277009.18056</td>\n    </tr>\n  </tbody>\n</table>\n</div>"
                    },
                    "metadata": {},
                    "execution_count": 29,
                    "output_type": "execute_result"
                }
            ],
            "execution_count": 29
        },
        {
            "cell_type": "code",
            "source": [
                "msr = df.groupby('region').agg({'quantity': 'sum'}).sort_values('region', ascending=False)"
            ],
            "metadata": {
                "azdata_cell_guid": "a9d899c1-50fd-4249-8df7-94ff345f2fc1",
                "language": "python"
            },
            "outputs": [],
            "execution_count": 30
        },
        {
            "cell_type": "code",
            "source": [
                "msr.shape"
            ],
            "metadata": {
                "azdata_cell_guid": "b07e9b81-842d-49dc-b9dc-5b3cdf707b8d",
                "language": "python"
            },
            "outputs": [
                {
                    "data": {
                        "text/plain": "(13, 1)"
                    },
                    "metadata": {},
                    "execution_count": 31,
                    "output_type": "execute_result"
                }
            ],
            "execution_count": 31
        },
        {
            "cell_type": "code",
            "source": [
                "msr.nlargest(13, 'quantity')"
            ],
            "metadata": {
                "azdata_cell_guid": "663a2dfb-6222-4556-8e19-ffb158e9b87e",
                "language": "python"
            },
            "outputs": [
                {
                    "data": {
                        "text/plain": "                quantity\nregion                  \nCentral            41762\nSouth              25206\nNorth              18021\nOceania            12838\nWest               12266\nSoutheast Asia     11822\nEMEA               11517\nEast               10618\nAfrica             10564\nNorth Asia          8851\nCentral Asia        7715\nCaribbean           6299\nCanada               833",
                        "text/html": "<div>\n<style scoped>\n    .dataframe tbody tr th:only-of-type {\n        vertical-align: middle;\n    }\n\n    .dataframe tbody tr th {\n        vertical-align: top;\n    }\n\n    .dataframe thead th {\n        text-align: right;\n    }\n</style>\n<table border=\"1\" class=\"dataframe\">\n  <thead>\n    <tr style=\"text-align: right;\">\n      <th></th>\n      <th>quantity</th>\n    </tr>\n    <tr>\n      <th>region</th>\n      <th></th>\n    </tr>\n  </thead>\n  <tbody>\n    <tr>\n      <th>Central</th>\n      <td>41762</td>\n    </tr>\n    <tr>\n      <th>South</th>\n      <td>25206</td>\n    </tr>\n    <tr>\n      <th>North</th>\n      <td>18021</td>\n    </tr>\n    <tr>\n      <th>Oceania</th>\n      <td>12838</td>\n    </tr>\n    <tr>\n      <th>West</th>\n      <td>12266</td>\n    </tr>\n    <tr>\n      <th>Southeast Asia</th>\n      <td>11822</td>\n    </tr>\n    <tr>\n      <th>EMEA</th>\n      <td>11517</td>\n    </tr>\n    <tr>\n      <th>East</th>\n      <td>10618</td>\n    </tr>\n    <tr>\n      <th>Africa</th>\n      <td>10564</td>\n    </tr>\n    <tr>\n      <th>North Asia</th>\n      <td>8851</td>\n    </tr>\n    <tr>\n      <th>Central Asia</th>\n      <td>7715</td>\n    </tr>\n    <tr>\n      <th>Caribbean</th>\n      <td>6299</td>\n    </tr>\n    <tr>\n      <th>Canada</th>\n      <td>833</td>\n    </tr>\n  </tbody>\n</table>\n</div>"
                    },
                    "metadata": {},
                    "execution_count": 32,
                    "output_type": "execute_result"
                }
            ],
            "execution_count": 32
        },
        {
            "cell_type": "code",
            "source": [
                "mpr = df.groupby('region').agg({'profit': 'sum'}).sort_values('profit', ascending=False)"
            ],
            "metadata": {
                "azdata_cell_guid": "cdf6bdda-4283-4580-b1eb-623086d67152",
                "language": "python"
            },
            "outputs": [],
            "execution_count": 33
        },
        {
            "cell_type": "code",
            "source": [
                "mpr.nlargest(13, 'profit')"
            ],
            "metadata": {
                "azdata_cell_guid": "e93e56e1-e6f1-4dc3-ae3d-749875513996",
                "language": "python"
            },
            "outputs": [
                {
                    "data": {
                        "text/plain": "                      profit\nregion                      \nCentral         311403.98164\nNorth           194597.95252\nNorth Asia      165578.42100\nSouth           140355.76618\nCentral Asia    132480.18700\nOceania         121666.64200\nWest            108418.44890\nEast             91522.78000\nAfrica           88871.63100\nEMEA             43897.97100\nCaribbean        34571.32104\nSoutheast Asia   17852.32900\nCanada           17817.39000",
                        "text/html": "<div>\n<style scoped>\n    .dataframe tbody tr th:only-of-type {\n        vertical-align: middle;\n    }\n\n    .dataframe tbody tr th {\n        vertical-align: top;\n    }\n\n    .dataframe thead th {\n        text-align: right;\n    }\n</style>\n<table border=\"1\" class=\"dataframe\">\n  <thead>\n    <tr style=\"text-align: right;\">\n      <th></th>\n      <th>profit</th>\n    </tr>\n    <tr>\n      <th>region</th>\n      <th></th>\n    </tr>\n  </thead>\n  <tbody>\n    <tr>\n      <th>Central</th>\n      <td>311403.98164</td>\n    </tr>\n    <tr>\n      <th>North</th>\n      <td>194597.95252</td>\n    </tr>\n    <tr>\n      <th>North Asia</th>\n      <td>165578.42100</td>\n    </tr>\n    <tr>\n      <th>South</th>\n      <td>140355.76618</td>\n    </tr>\n    <tr>\n      <th>Central Asia</th>\n      <td>132480.18700</td>\n    </tr>\n    <tr>\n      <th>Oceania</th>\n      <td>121666.64200</td>\n    </tr>\n    <tr>\n      <th>West</th>\n      <td>108418.44890</td>\n    </tr>\n    <tr>\n      <th>East</th>\n      <td>91522.78000</td>\n    </tr>\n    <tr>\n      <th>Africa</th>\n      <td>88871.63100</td>\n    </tr>\n    <tr>\n      <th>EMEA</th>\n      <td>43897.97100</td>\n    </tr>\n    <tr>\n      <th>Caribbean</th>\n      <td>34571.32104</td>\n    </tr>\n    <tr>\n      <th>Southeast Asia</th>\n      <td>17852.32900</td>\n    </tr>\n    <tr>\n      <th>Canada</th>\n      <td>17817.39000</td>\n    </tr>\n  </tbody>\n</table>\n</div>"
                    },
                    "metadata": {},
                    "execution_count": 34,
                    "output_type": "execute_result"
                }
            ],
            "execution_count": 34
        },
        {
            "cell_type": "code",
            "source": [
                "msm = df.groupby('market').agg({'quantity': 'sum'}).sort_values('quantity', ascending=False)"
            ],
            "metadata": {
                "azdata_cell_guid": "aa4f059d-8910-461b-8eb9-a17b85bbcd4c",
                "language": "python"
            },
            "outputs": [],
            "execution_count": 35
        },
        {
            "cell_type": "code",
            "source": [
                "msm.nlargest(7, 'quantity')"
            ],
            "metadata": {
                "azdata_cell_guid": "430ec956-8c74-4381-b336-d5eeca66ea67",
                "language": "python"
            },
            "outputs": [
                {
                    "data": {
                        "text/plain": "        quantity\nmarket          \nAPAC       41226\nLATAM      38526\nUS         37873\nEU         37773\nEMEA       11517\nAfrica     10564\nCanada       833",
                        "text/html": "<div>\n<style scoped>\n    .dataframe tbody tr th:only-of-type {\n        vertical-align: middle;\n    }\n\n    .dataframe tbody tr th {\n        vertical-align: top;\n    }\n\n    .dataframe thead th {\n        text-align: right;\n    }\n</style>\n<table border=\"1\" class=\"dataframe\">\n  <thead>\n    <tr style=\"text-align: right;\">\n      <th></th>\n      <th>quantity</th>\n    </tr>\n    <tr>\n      <th>market</th>\n      <th></th>\n    </tr>\n  </thead>\n  <tbody>\n    <tr>\n      <th>APAC</th>\n      <td>41226</td>\n    </tr>\n    <tr>\n      <th>LATAM</th>\n      <td>38526</td>\n    </tr>\n    <tr>\n      <th>US</th>\n      <td>37873</td>\n    </tr>\n    <tr>\n      <th>EU</th>\n      <td>37773</td>\n    </tr>\n    <tr>\n      <th>EMEA</th>\n      <td>11517</td>\n    </tr>\n    <tr>\n      <th>Africa</th>\n      <td>10564</td>\n    </tr>\n    <tr>\n      <th>Canada</th>\n      <td>833</td>\n    </tr>\n  </tbody>\n</table>\n</div>"
                    },
                    "metadata": {},
                    "execution_count": 36,
                    "output_type": "execute_result"
                }
            ],
            "execution_count": 36
        },
        {
            "cell_type": "code",
            "source": [
                "mpm = df.groupby('market').agg({'profit': 'sum'}).sort_values('profit', ascending=False)"
            ],
            "metadata": {
                "azdata_cell_guid": "cae866eb-dfeb-4ad2-ac3e-4051aada11f0",
                "language": "python"
            },
            "outputs": [],
            "execution_count": 37
        },
        {
            "cell_type": "code",
            "source": [
                "mpm.nlargest(13, 'profit')"
            ],
            "metadata": {
                "azdata_cell_guid": "449b499e-ba2f-4475-a0fc-ba366c96ea70",
                "language": "python"
            },
            "outputs": [
                {
                    "data": {
                        "text/plain": "              profit\nmarket              \nAPAC    437577.57900\nEU      372829.74150\nUS      286397.02170\nLATAM   221643.48708\nAfrica   88871.63100\nEMEA     43897.97100\nCanada   17817.39000",
                        "text/html": "<div>\n<style scoped>\n    .dataframe tbody tr th:only-of-type {\n        vertical-align: middle;\n    }\n\n    .dataframe tbody tr th {\n        vertical-align: top;\n    }\n\n    .dataframe thead th {\n        text-align: right;\n    }\n</style>\n<table border=\"1\" class=\"dataframe\">\n  <thead>\n    <tr style=\"text-align: right;\">\n      <th></th>\n      <th>profit</th>\n    </tr>\n    <tr>\n      <th>market</th>\n      <th></th>\n    </tr>\n  </thead>\n  <tbody>\n    <tr>\n      <th>APAC</th>\n      <td>437577.57900</td>\n    </tr>\n    <tr>\n      <th>EU</th>\n      <td>372829.74150</td>\n    </tr>\n    <tr>\n      <th>US</th>\n      <td>286397.02170</td>\n    </tr>\n    <tr>\n      <th>LATAM</th>\n      <td>221643.48708</td>\n    </tr>\n    <tr>\n      <th>Africa</th>\n      <td>88871.63100</td>\n    </tr>\n    <tr>\n      <th>EMEA</th>\n      <td>43897.97100</td>\n    </tr>\n    <tr>\n      <th>Canada</th>\n      <td>17817.39000</td>\n    </tr>\n  </tbody>\n</table>\n</div>"
                    },
                    "metadata": {},
                    "execution_count": 38,
                    "output_type": "execute_result"
                }
            ],
            "execution_count": 38
        },
        {
            "cell_type": "code",
            "source": [
                "# Get the sum of all products\r\n",
                "new_sum = pd.merge(pd.merge(df, msp, on='product_name'), mpp, on='product_name')"
            ],
            "metadata": {
                "azdata_cell_guid": "f3f1a1e8-591e-4cfa-8115-651352df0646",
                "language": "python"
            },
            "outputs": [],
            "execution_count": 39
        },
        {
            "cell_type": "code",
            "source": [
                "new_sum = new_sum.drop(['quantity_x', 'profit_x'], axis= 1)"
            ],
            "metadata": {
                "azdata_cell_guid": "ae1c1e18-170c-4aa4-919e-ea3a7cdec55a",
                "language": "python"
            },
            "outputs": [],
            "execution_count": 40
        },
        {
            "cell_type": "code",
            "source": [
                "new_sum.rename(columns={'profit_y' : 'profit', 'quantity_y' : 'quantity'}, inplace = True)"
            ],
            "metadata": {
                "language": "python",
                "azdata_cell_guid": "0b03648e-7003-4bcb-99ad-cad91de2eb03"
            },
            "outputs": [],
            "execution_count": 41
        },
        {
            "cell_type": "code",
            "source": [
                "new_sum.columns"
            ],
            "metadata": {
                "azdata_cell_guid": "3ad6e581-19b2-4c57-93c2-71adf2cece44",
                "language": "python"
            },
            "outputs": [
                {
                    "data": {
                        "text/plain": "Index(['order_id', 'order_date', 'ship_date', 'ship_mode', 'customer_name',\n       'segment', 'state', 'country', 'market', 'region', 'product_id',\n       'category', 'sub_category', 'product_name', 'sales', 'discount',\n       'shipping_cost', 'order_priority', 'year', 'quantity', 'profit'],\n      dtype='object')"
                    },
                    "metadata": {},
                    "execution_count": 42,
                    "output_type": "execute_result"
                }
            ],
            "execution_count": 42
        },
        {
            "cell_type": "code",
            "source": [
                "new_sum = df.drop_duplicates(subset=['product_name'])"
            ],
            "metadata": {
                "language": "python",
                "azdata_cell_guid": "16784959-2c8a-4019-ad7b-e55daeb12553"
            },
            "outputs": [],
            "execution_count": 43
        },
        {
            "cell_type": "code",
            "source": [
                "segment_products = new_sum[['segment','product_name', 'sales']]"
            ],
            "metadata": {
                "language": "python",
                "azdata_cell_guid": "31962b8f-4800-4a82-a933-4f8513766335"
            },
            "outputs": [],
            "execution_count": 44
        },
        {
            "cell_type": "code",
            "source": [
                "segment_products.nsmallest(5, 'sales')"
            ],
            "metadata": {
                "language": "python",
                "azdata_cell_guid": "2e697ec5-78b5-4de4-991e-1b7c8e152627"
            },
            "outputs": [
                {
                    "data": {
                        "text/plain": "        segment                                  product_name  sales\n1349   Consumer                 Avery Round Ring Poly Binders  0.852\n5654  Corporate                             Acco 3-Hole Punch  0.876\n3718  Corporate  Acco Economy Flexible Poly Round Ring Binder  1.044\n674    Consumer       Wilson Jones Easy Flow II Sheet Lifters  1.080\n412    Consumer              Avery Hole Reinforcements, Clear  1.161",
                        "text/html": "<div>\n<style scoped>\n    .dataframe tbody tr th:only-of-type {\n        vertical-align: middle;\n    }\n\n    .dataframe tbody tr th {\n        vertical-align: top;\n    }\n\n    .dataframe thead th {\n        text-align: right;\n    }\n</style>\n<table border=\"1\" class=\"dataframe\">\n  <thead>\n    <tr style=\"text-align: right;\">\n      <th></th>\n      <th>segment</th>\n      <th>product_name</th>\n      <th>sales</th>\n    </tr>\n  </thead>\n  <tbody>\n    <tr>\n      <th>1349</th>\n      <td>Consumer</td>\n      <td>Avery Round Ring Poly Binders</td>\n      <td>0.852</td>\n    </tr>\n    <tr>\n      <th>5654</th>\n      <td>Corporate</td>\n      <td>Acco 3-Hole Punch</td>\n      <td>0.876</td>\n    </tr>\n    <tr>\n      <th>3718</th>\n      <td>Corporate</td>\n      <td>Acco Economy Flexible Poly Round Ring Binder</td>\n      <td>1.044</td>\n    </tr>\n    <tr>\n      <th>674</th>\n      <td>Consumer</td>\n      <td>Wilson Jones Easy Flow II Sheet Lifters</td>\n      <td>1.080</td>\n    </tr>\n    <tr>\n      <th>412</th>\n      <td>Consumer</td>\n      <td>Avery Hole Reinforcements, Clear</td>\n      <td>1.161</td>\n    </tr>\n  </tbody>\n</table>\n</div>"
                    },
                    "metadata": {},
                    "execution_count": 45,
                    "output_type": "execute_result"
                }
            ],
            "execution_count": 45
        },
        {
            "cell_type": "code",
            "source": [
                ""
            ],
            "metadata": {
                "azdata_cell_guid": "5a621c5e-90ab-4ce9-b11b-77d4737469eb",
                "language": "python"
            },
            "outputs": [],
            "execution_count": 45
        },
        {
            "cell_type": "code",
            "source": [
                ""
            ],
            "metadata": {
                "azdata_cell_guid": "69f13ec8-4b84-4117-8e0c-2d18b7df1274",
                "language": "python",
                "tags": []
            },
            "outputs": [],
            "execution_count": 45
        },
        {
            "cell_type": "code",
            "source": [
                ""
            ],
            "metadata": {
                "azdata_cell_guid": "83240531-2e42-416a-a4a4-edbc9e3e2a74",
                "language": "python"
            },
            "outputs": [],
            "execution_count": 45
        },
        {
            "cell_type": "code",
            "source": [
                ""
            ],
            "metadata": {
                "azdata_cell_guid": "3518d41f-1aee-4275-8edc-de01a79b1839",
                "language": "python"
            },
            "outputs": [],
            "execution_count": 45
        },
        {
            "cell_type": "code",
            "source": [
                ""
            ],
            "metadata": {
                "azdata_cell_guid": "66ecbaf2-bb4f-4142-94b3-65fad2841a5f",
                "language": "python"
            },
            "outputs": [],
            "execution_count": 45
        },
        {
            "cell_type": "code",
            "source": [
                ""
            ],
            "metadata": {
                "azdata_cell_guid": "64840dc3-48c3-4618-ada0-43cfd8baf180",
                "language": "python"
            },
            "outputs": [],
            "execution_count": 45
        },
        {
            "cell_type": "code",
            "source": [
                ""
            ],
            "metadata": {
                "azdata_cell_guid": "dd24db1a-5a28-4925-8c15-fa14df0f141f",
                "language": "python"
            },
            "outputs": [],
            "execution_count": 45
        },
        {
            "cell_type": "code",
            "source": [
                ""
            ],
            "metadata": {
                "azdata_cell_guid": "48073aee-c3d5-4bb1-85b6-88861c1fbda8",
                "language": "python"
            },
            "outputs": [],
            "execution_count": 45
        },
        {
            "cell_type": "code",
            "source": [
                ""
            ],
            "metadata": {
                "azdata_cell_guid": "14e53297-a4bb-4122-ad7e-c97669277a93",
                "language": "python"
            },
            "outputs": [],
            "execution_count": 45
        },
        {
            "cell_type": "code",
            "source": [
                ""
            ],
            "metadata": {
                "azdata_cell_guid": "5862c44e-bf0b-4b6a-a523-7e89d432bc14",
                "language": "python"
            },
            "outputs": [],
            "execution_count": 45
        }
    ]
}