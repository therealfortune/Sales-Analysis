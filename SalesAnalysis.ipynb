{
    "metadata": {
        "kernelspec": {
            "name": "python3",
            "display_name": "Python 3 (ipykernel)",
            "language": "python"
        },
        "language_info": {
            "name": "python",
            "version": "3.8.10",
            "mimetype": "text/x-python",
            "codemirror_mode": {
                "name": "ipython",
                "version": 3
            },
            "pygments_lexer": "ipython3",
            "nbconvert_exporter": "python",
            "file_extension": ".py"
        },
        "colab": {
            "provenance": [],
            "collapsed_sections": []
        }
    },
    "nbformat_minor": 2,
    "nbformat": 4,
    "cells": [
        {
            "cell_type": "code",
            "source": [
                "import pandas as pd \n",
                "import numpy as np\n",
                "import seaborn as sns\n",
                "import matplotlib.pyplot as plt"
            ],
            "metadata": {
                "id": "J7ourqX2Ifxv",
                "azdata_cell_guid": "d59dc416-a30e-461d-bef0-2fe1a20dd9d3",
                "language": "python"
            },
            "outputs": [],
            "execution_count": 36
        },
        {
            "cell_type": "code",
            "source": [
                "orders = pd.read_excel('superstore_sales.xlsx', sheet_name=\"Orders\")\n",
                "people = pd.read_excel('superstore_sales.xlsx', sheet_name=\"People\")\n",
                "returns = pd.read_excel('superstore_sales.xlsx', sheet_name=\"Returns\")"
            ],
            "metadata": {
                "id": "wStWsZSII0yv",
                "azdata_cell_guid": "d2e07b05-5d89-4a4d-a1ab-ca6af844a88e",
                "language": "python"
            },
            "outputs": [],
            "execution_count": 37
        },
        {
            "cell_type": "code",
            "source": [
                "df = orders.copy()"
            ],
            "metadata": {
                "id": "nx6SenNnJE0s",
                "azdata_cell_guid": "73165609-ebb5-4cfb-bb00-f9a97d80cd30",
                "language": "python"
            },
            "outputs": [],
            "execution_count": 38
        },
        {
            "cell_type": "code",
            "source": [
                "df.head(3)"
            ],
            "metadata": {
                "colab": {
                    "base_uri": "https://localhost:8080/",
                    "height": 306
                },
                "id": "6rt27ckZJIp4",
                "outputId": "336996df-bda2-4643-d3dd-5f4206b2fad1",
                "azdata_cell_guid": "8a7679f7-d37e-436e-b1f6-42b3e1c5fffe",
                "language": "python"
            },
            "outputs": [
                {
                    "output_type": "execute_result",
                    "execution_count": 39,
                    "data": {
                        "text/plain": "        order_id order_date  ship_date       ship_mode    customer_name  \\\n0   AG-2011-2040 2011-01-01 2011-01-06  Standard Class  Toby Braunhardt   \n1  IN-2011-47883 2011-01-01 2011-01-08  Standard Class      Joseph Holt   \n2   HU-2011-1220 2011-01-01 2011-01-05    Second Class    Annie Thurman   \n\n    segment            state    country  market   region  ...  \\\n0  Consumer      Constantine    Algeria  Africa   Africa  ...   \n1  Consumer  New South Wales  Australia    APAC  Oceania  ...   \n2  Consumer         Budapest    Hungary    EMEA     EMEA  ...   \n\n          category sub_category              product_name    sales  quantity  \\\n0  Office Supplies      Storage       Tenex Lockers, Blue  408.300         2   \n1  Office Supplies     Supplies  Acme Trimmer, High Speed  120.366         3   \n2  Office Supplies      Storage   Tenex Box, Single Width   66.120         4   \n\n   discount   profit  shipping_cost  order_priority  year  \n0       0.0  106.140          35.46          Medium  2011  \n1       0.1   36.036           9.72          Medium  2011  \n2       0.0   29.640           8.17            High  2011  \n\n[3 rows x 21 columns]",
                        "text/html": "<div>\n<style scoped>\n    .dataframe tbody tr th:only-of-type {\n        vertical-align: middle;\n    }\n\n    .dataframe tbody tr th {\n        vertical-align: top;\n    }\n\n    .dataframe thead th {\n        text-align: right;\n    }\n</style>\n<table border=\"1\" class=\"dataframe\">\n  <thead>\n    <tr style=\"text-align: right;\">\n      <th></th>\n      <th>order_id</th>\n      <th>order_date</th>\n      <th>ship_date</th>\n      <th>ship_mode</th>\n      <th>customer_name</th>\n      <th>segment</th>\n      <th>state</th>\n      <th>country</th>\n      <th>market</th>\n      <th>region</th>\n      <th>...</th>\n      <th>category</th>\n      <th>sub_category</th>\n      <th>product_name</th>\n      <th>sales</th>\n      <th>quantity</th>\n      <th>discount</th>\n      <th>profit</th>\n      <th>shipping_cost</th>\n      <th>order_priority</th>\n      <th>year</th>\n    </tr>\n  </thead>\n  <tbody>\n    <tr>\n      <th>0</th>\n      <td>AG-2011-2040</td>\n      <td>2011-01-01</td>\n      <td>2011-01-06</td>\n      <td>Standard Class</td>\n      <td>Toby Braunhardt</td>\n      <td>Consumer</td>\n      <td>Constantine</td>\n      <td>Algeria</td>\n      <td>Africa</td>\n      <td>Africa</td>\n      <td>...</td>\n      <td>Office Supplies</td>\n      <td>Storage</td>\n      <td>Tenex Lockers, Blue</td>\n      <td>408.300</td>\n      <td>2</td>\n      <td>0.0</td>\n      <td>106.140</td>\n      <td>35.46</td>\n      <td>Medium</td>\n      <td>2011</td>\n    </tr>\n    <tr>\n      <th>1</th>\n      <td>IN-2011-47883</td>\n      <td>2011-01-01</td>\n      <td>2011-01-08</td>\n      <td>Standard Class</td>\n      <td>Joseph Holt</td>\n      <td>Consumer</td>\n      <td>New South Wales</td>\n      <td>Australia</td>\n      <td>APAC</td>\n      <td>Oceania</td>\n      <td>...</td>\n      <td>Office Supplies</td>\n      <td>Supplies</td>\n      <td>Acme Trimmer, High Speed</td>\n      <td>120.366</td>\n      <td>3</td>\n      <td>0.1</td>\n      <td>36.036</td>\n      <td>9.72</td>\n      <td>Medium</td>\n      <td>2011</td>\n    </tr>\n    <tr>\n      <th>2</th>\n      <td>HU-2011-1220</td>\n      <td>2011-01-01</td>\n      <td>2011-01-05</td>\n      <td>Second Class</td>\n      <td>Annie Thurman</td>\n      <td>Consumer</td>\n      <td>Budapest</td>\n      <td>Hungary</td>\n      <td>EMEA</td>\n      <td>EMEA</td>\n      <td>...</td>\n      <td>Office Supplies</td>\n      <td>Storage</td>\n      <td>Tenex Box, Single Width</td>\n      <td>66.120</td>\n      <td>4</td>\n      <td>0.0</td>\n      <td>29.640</td>\n      <td>8.17</td>\n      <td>High</td>\n      <td>2011</td>\n    </tr>\n  </tbody>\n</table>\n<p>3 rows × 21 columns</p>\n</div>"
                    },
                    "metadata": {}
                }
            ],
            "execution_count": 39
        },
        {
            "cell_type": "code",
            "source": [
                "df.shape"
            ],
            "metadata": {
                "colab": {
                    "base_uri": "https://localhost:8080/"
                },
                "id": "PhfdaAt7JLmc",
                "outputId": "24a19632-3deb-4b06-98b9-497e58931528",
                "azdata_cell_guid": "54f538ad-5b5d-47f8-80f4-83ca2ddaad34",
                "language": "python"
            },
            "outputs": [
                {
                    "output_type": "execute_result",
                    "execution_count": 40,
                    "data": {
                        "text/plain": "(51290, 21)"
                    },
                    "metadata": {}
                }
            ],
            "execution_count": 40
        },
        {
            "cell_type": "code",
            "source": [
                "df.isnull().sum()"
            ],
            "metadata": {
                "colab": {
                    "base_uri": "https://localhost:8080/"
                },
                "id": "R8lYgJBvKAcl",
                "outputId": "be0a24f4-31c4-4b79-d431-c97e50542c71",
                "azdata_cell_guid": "e10fd518-e80a-4f1b-8214-7d35b6f66341",
                "language": "python"
            },
            "outputs": [
                {
                    "output_type": "execute_result",
                    "execution_count": 41,
                    "data": {
                        "text/plain": "order_id          0\norder_date        0\nship_date         0\nship_mode         0\ncustomer_name     0\nsegment           0\nstate             0\ncountry           0\nmarket            0\nregion            0\nproduct_id        0\ncategory          0\nsub_category      0\nproduct_name      0\nsales             0\nquantity          0\ndiscount          0\nprofit            0\nshipping_cost     0\norder_priority    0\nyear              0\ndtype: int64"
                    },
                    "metadata": {}
                }
            ],
            "execution_count": 41
        },
        {
            "cell_type": "code",
            "source": [
                "df.describe()"
            ],
            "metadata": {
                "colab": {
                    "base_uri": "https://localhost:8080/",
                    "height": 300
                },
                "id": "jtGbjMAPKC9p",
                "outputId": "23a609eb-4355-4221-9e05-d26c07590b67",
                "azdata_cell_guid": "8093cfb6-1940-4961-b80b-d27fc33b516f",
                "language": "python"
            },
            "outputs": [
                {
                    "output_type": "execute_result",
                    "execution_count": 42,
                    "data": {
                        "text/plain": "              sales      quantity      discount        profit  shipping_cost  \\\ncount  51290.000000  51290.000000  51290.000000  51290.000000   51290.000000   \nmean     246.490581      3.476545      0.142908     28.641740      26.375818   \nstd      487.565361      2.278766      0.212280    174.424113      57.296810   \nmin        0.444000      1.000000      0.000000  -6599.978000       0.002000   \n25%       30.758625      2.000000      0.000000      0.000000       2.610000   \n50%       85.053000      3.000000      0.000000      9.240000       7.790000   \n75%      251.053200      5.000000      0.200000     36.810000      24.450000   \nmax    22638.480000     14.000000      0.850000   8399.976000     933.570000   \n\n               year  \ncount  51290.000000  \nmean    2012.777208  \nstd        1.098931  \nmin     2011.000000  \n25%     2012.000000  \n50%     2013.000000  \n75%     2014.000000  \nmax     2014.000000  ",
                        "text/html": "<div>\n<style scoped>\n    .dataframe tbody tr th:only-of-type {\n        vertical-align: middle;\n    }\n\n    .dataframe tbody tr th {\n        vertical-align: top;\n    }\n\n    .dataframe thead th {\n        text-align: right;\n    }\n</style>\n<table border=\"1\" class=\"dataframe\">\n  <thead>\n    <tr style=\"text-align: right;\">\n      <th></th>\n      <th>sales</th>\n      <th>quantity</th>\n      <th>discount</th>\n      <th>profit</th>\n      <th>shipping_cost</th>\n      <th>year</th>\n    </tr>\n  </thead>\n  <tbody>\n    <tr>\n      <th>count</th>\n      <td>51290.000000</td>\n      <td>51290.000000</td>\n      <td>51290.000000</td>\n      <td>51290.000000</td>\n      <td>51290.000000</td>\n      <td>51290.000000</td>\n    </tr>\n    <tr>\n      <th>mean</th>\n      <td>246.490581</td>\n      <td>3.476545</td>\n      <td>0.142908</td>\n      <td>28.641740</td>\n      <td>26.375818</td>\n      <td>2012.777208</td>\n    </tr>\n    <tr>\n      <th>std</th>\n      <td>487.565361</td>\n      <td>2.278766</td>\n      <td>0.212280</td>\n      <td>174.424113</td>\n      <td>57.296810</td>\n      <td>1.098931</td>\n    </tr>\n    <tr>\n      <th>min</th>\n      <td>0.444000</td>\n      <td>1.000000</td>\n      <td>0.000000</td>\n      <td>-6599.978000</td>\n      <td>0.002000</td>\n      <td>2011.000000</td>\n    </tr>\n    <tr>\n      <th>25%</th>\n      <td>30.758625</td>\n      <td>2.000000</td>\n      <td>0.000000</td>\n      <td>0.000000</td>\n      <td>2.610000</td>\n      <td>2012.000000</td>\n    </tr>\n    <tr>\n      <th>50%</th>\n      <td>85.053000</td>\n      <td>3.000000</td>\n      <td>0.000000</td>\n      <td>9.240000</td>\n      <td>7.790000</td>\n      <td>2013.000000</td>\n    </tr>\n    <tr>\n      <th>75%</th>\n      <td>251.053200</td>\n      <td>5.000000</td>\n      <td>0.200000</td>\n      <td>36.810000</td>\n      <td>24.450000</td>\n      <td>2014.000000</td>\n    </tr>\n    <tr>\n      <th>max</th>\n      <td>22638.480000</td>\n      <td>14.000000</td>\n      <td>0.850000</td>\n      <td>8399.976000</td>\n      <td>933.570000</td>\n      <td>2014.000000</td>\n    </tr>\n  </tbody>\n</table>\n</div>"
                    },
                    "metadata": {}
                }
            ],
            "execution_count": 42
        },
        {
            "cell_type": "code",
            "source": [
                "print(len(pd.unique(df['product_name'])))"
            ],
            "metadata": {
                "colab": {
                    "base_uri": "https://localhost:8080/"
                },
                "id": "WBPeJOuPKGK0",
                "outputId": "bcdc4555-2f28-4429-f2d0-d77d17920f81",
                "azdata_cell_guid": "5fa8525c-4569-47d3-8c81-9ca3c6466f4a",
                "language": "python"
            },
            "outputs": [
                {
                    "output_type": "stream",
                    "name": "stdout",
                    "text": "3788\n"
                }
            ],
            "execution_count": 43
        },
        {
            "cell_type": "code",
            "source": [
                "filtered = df.copy()\n",
                "diff_date = (df['ship_date'] - df['order_date'])/ np.timedelta64(1, 'D')"
            ],
            "metadata": {
                "id": "pSUVqmlUKWSQ",
                "azdata_cell_guid": "2870b57b-302b-4076-86fb-6b3f824b3ae3",
                "language": "python"
            },
            "outputs": [],
            "execution_count": 44
        },
        {
            "cell_type": "code",
            "source": [
                "filtered['diff_date'] = diff_date"
            ],
            "metadata": {
                "id": "G54XGRkgKe3e",
                "azdata_cell_guid": "49c382e2-320a-4f04-9887-b42767b744bd",
                "language": "python"
            },
            "outputs": [],
            "execution_count": 45
        },
        {
            "cell_type": "code",
            "source": [
                "filt = filtered.pop('diff_date')\n",
                "filtered.insert(3, 'diff_date', filt)"
            ],
            "metadata": {
                "id": "T9XtMtQfKfQd",
                "azdata_cell_guid": "de2835bc-fdeb-4085-a74c-4cc4355dec39",
                "language": "python"
            },
            "outputs": [],
            "execution_count": 46
        },
        {
            "cell_type": "code",
            "source": [
                "filtered.head(3)"
            ],
            "metadata": {
                "colab": {
                    "base_uri": "https://localhost:8080/",
                    "height": 306
                },
                "id": "ArTVbubwKgbO",
                "outputId": "2893cbb4-b149-4912-f2b8-52862e14eeff",
                "azdata_cell_guid": "f29079d2-42e8-4db9-937d-234363d87c4a",
                "language": "python"
            },
            "outputs": [
                {
                    "output_type": "execute_result",
                    "execution_count": 47,
                    "data": {
                        "text/plain": "        order_id order_date  ship_date  diff_date       ship_mode  \\\n0   AG-2011-2040 2011-01-01 2011-01-06        5.0  Standard Class   \n1  IN-2011-47883 2011-01-01 2011-01-08        7.0  Standard Class   \n2   HU-2011-1220 2011-01-01 2011-01-05        4.0    Second Class   \n\n     customer_name   segment            state    country  market  ...  \\\n0  Toby Braunhardt  Consumer      Constantine    Algeria  Africa  ...   \n1      Joseph Holt  Consumer  New South Wales  Australia    APAC  ...   \n2    Annie Thurman  Consumer         Budapest    Hungary    EMEA  ...   \n\n          category sub_category              product_name    sales quantity  \\\n0  Office Supplies      Storage       Tenex Lockers, Blue  408.300        2   \n1  Office Supplies     Supplies  Acme Trimmer, High Speed  120.366        3   \n2  Office Supplies      Storage   Tenex Box, Single Width   66.120        4   \n\n   discount   profit  shipping_cost  order_priority  year  \n0       0.0  106.140          35.46          Medium  2011  \n1       0.1   36.036           9.72          Medium  2011  \n2       0.0   29.640           8.17            High  2011  \n\n[3 rows x 22 columns]",
                        "text/html": "<div>\n<style scoped>\n    .dataframe tbody tr th:only-of-type {\n        vertical-align: middle;\n    }\n\n    .dataframe tbody tr th {\n        vertical-align: top;\n    }\n\n    .dataframe thead th {\n        text-align: right;\n    }\n</style>\n<table border=\"1\" class=\"dataframe\">\n  <thead>\n    <tr style=\"text-align: right;\">\n      <th></th>\n      <th>order_id</th>\n      <th>order_date</th>\n      <th>ship_date</th>\n      <th>diff_date</th>\n      <th>ship_mode</th>\n      <th>customer_name</th>\n      <th>segment</th>\n      <th>state</th>\n      <th>country</th>\n      <th>market</th>\n      <th>...</th>\n      <th>category</th>\n      <th>sub_category</th>\n      <th>product_name</th>\n      <th>sales</th>\n      <th>quantity</th>\n      <th>discount</th>\n      <th>profit</th>\n      <th>shipping_cost</th>\n      <th>order_priority</th>\n      <th>year</th>\n    </tr>\n  </thead>\n  <tbody>\n    <tr>\n      <th>0</th>\n      <td>AG-2011-2040</td>\n      <td>2011-01-01</td>\n      <td>2011-01-06</td>\n      <td>5.0</td>\n      <td>Standard Class</td>\n      <td>Toby Braunhardt</td>\n      <td>Consumer</td>\n      <td>Constantine</td>\n      <td>Algeria</td>\n      <td>Africa</td>\n      <td>...</td>\n      <td>Office Supplies</td>\n      <td>Storage</td>\n      <td>Tenex Lockers, Blue</td>\n      <td>408.300</td>\n      <td>2</td>\n      <td>0.0</td>\n      <td>106.140</td>\n      <td>35.46</td>\n      <td>Medium</td>\n      <td>2011</td>\n    </tr>\n    <tr>\n      <th>1</th>\n      <td>IN-2011-47883</td>\n      <td>2011-01-01</td>\n      <td>2011-01-08</td>\n      <td>7.0</td>\n      <td>Standard Class</td>\n      <td>Joseph Holt</td>\n      <td>Consumer</td>\n      <td>New South Wales</td>\n      <td>Australia</td>\n      <td>APAC</td>\n      <td>...</td>\n      <td>Office Supplies</td>\n      <td>Supplies</td>\n      <td>Acme Trimmer, High Speed</td>\n      <td>120.366</td>\n      <td>3</td>\n      <td>0.1</td>\n      <td>36.036</td>\n      <td>9.72</td>\n      <td>Medium</td>\n      <td>2011</td>\n    </tr>\n    <tr>\n      <th>2</th>\n      <td>HU-2011-1220</td>\n      <td>2011-01-01</td>\n      <td>2011-01-05</td>\n      <td>4.0</td>\n      <td>Second Class</td>\n      <td>Annie Thurman</td>\n      <td>Consumer</td>\n      <td>Budapest</td>\n      <td>Hungary</td>\n      <td>EMEA</td>\n      <td>...</td>\n      <td>Office Supplies</td>\n      <td>Storage</td>\n      <td>Tenex Box, Single Width</td>\n      <td>66.120</td>\n      <td>4</td>\n      <td>0.0</td>\n      <td>29.640</td>\n      <td>8.17</td>\n      <td>High</td>\n      <td>2011</td>\n    </tr>\n  </tbody>\n</table>\n<p>3 rows × 22 columns</p>\n</div>"
                    },
                    "metadata": {}
                }
            ],
            "execution_count": 47
        },
        {
            "cell_type": "code",
            "source": [
                "filtered['month'] = pd.DatetimeIndex(filtered['order_date']).month \n",
                "filtered['month'] = filtered.month.apply(lambda x : str(int(x)).zfill(2))"
            ],
            "metadata": {
                "id": "NkqN3hwoKg1Q",
                "azdata_cell_guid": "1cd44e20-d9c4-4290-84e1-fe7c90aee01a",
                "language": "python"
            },
            "outputs": [],
            "execution_count": 48
        },
        {
            "cell_type": "code",
            "source": [
                "filtered.head(2)"
            ],
            "metadata": {
                "colab": {
                    "base_uri": "https://localhost:8080/",
                    "height": 257
                },
                "id": "Gmhu9H8gKhYj",
                "outputId": "3e5f4e59-6381-4cf6-dd86-b6c3b51b4a05",
                "azdata_cell_guid": "13cc85ee-da11-4174-8b66-1197faa45e82",
                "language": "python"
            },
            "outputs": [
                {
                    "output_type": "execute_result",
                    "execution_count": 49,
                    "data": {
                        "text/plain": "        order_id order_date  ship_date  diff_date       ship_mode  \\\n0   AG-2011-2040 2011-01-01 2011-01-06        5.0  Standard Class   \n1  IN-2011-47883 2011-01-01 2011-01-08        7.0  Standard Class   \n\n     customer_name   segment            state    country  market  ...  \\\n0  Toby Braunhardt  Consumer      Constantine    Algeria  Africa  ...   \n1      Joseph Holt  Consumer  New South Wales  Australia    APAC  ...   \n\n  sub_category              product_name    sales quantity discount   profit  \\\n0      Storage       Tenex Lockers, Blue  408.300        2      0.0  106.140   \n1     Supplies  Acme Trimmer, High Speed  120.366        3      0.1   36.036   \n\n   shipping_cost  order_priority  year  month  \n0          35.46          Medium  2011     01  \n1           9.72          Medium  2011     01  \n\n[2 rows x 23 columns]",
                        "text/html": "<div>\n<style scoped>\n    .dataframe tbody tr th:only-of-type {\n        vertical-align: middle;\n    }\n\n    .dataframe tbody tr th {\n        vertical-align: top;\n    }\n\n    .dataframe thead th {\n        text-align: right;\n    }\n</style>\n<table border=\"1\" class=\"dataframe\">\n  <thead>\n    <tr style=\"text-align: right;\">\n      <th></th>\n      <th>order_id</th>\n      <th>order_date</th>\n      <th>ship_date</th>\n      <th>diff_date</th>\n      <th>ship_mode</th>\n      <th>customer_name</th>\n      <th>segment</th>\n      <th>state</th>\n      <th>country</th>\n      <th>market</th>\n      <th>...</th>\n      <th>sub_category</th>\n      <th>product_name</th>\n      <th>sales</th>\n      <th>quantity</th>\n      <th>discount</th>\n      <th>profit</th>\n      <th>shipping_cost</th>\n      <th>order_priority</th>\n      <th>year</th>\n      <th>month</th>\n    </tr>\n  </thead>\n  <tbody>\n    <tr>\n      <th>0</th>\n      <td>AG-2011-2040</td>\n      <td>2011-01-01</td>\n      <td>2011-01-06</td>\n      <td>5.0</td>\n      <td>Standard Class</td>\n      <td>Toby Braunhardt</td>\n      <td>Consumer</td>\n      <td>Constantine</td>\n      <td>Algeria</td>\n      <td>Africa</td>\n      <td>...</td>\n      <td>Storage</td>\n      <td>Tenex Lockers, Blue</td>\n      <td>408.300</td>\n      <td>2</td>\n      <td>0.0</td>\n      <td>106.140</td>\n      <td>35.46</td>\n      <td>Medium</td>\n      <td>2011</td>\n      <td>01</td>\n    </tr>\n    <tr>\n      <th>1</th>\n      <td>IN-2011-47883</td>\n      <td>2011-01-01</td>\n      <td>2011-01-08</td>\n      <td>7.0</td>\n      <td>Standard Class</td>\n      <td>Joseph Holt</td>\n      <td>Consumer</td>\n      <td>New South Wales</td>\n      <td>Australia</td>\n      <td>APAC</td>\n      <td>...</td>\n      <td>Supplies</td>\n      <td>Acme Trimmer, High Speed</td>\n      <td>120.366</td>\n      <td>3</td>\n      <td>0.1</td>\n      <td>36.036</td>\n      <td>9.72</td>\n      <td>Medium</td>\n      <td>2011</td>\n      <td>01</td>\n    </tr>\n  </tbody>\n</table>\n<p>2 rows × 23 columns</p>\n</div>"
                    },
                    "metadata": {}
                }
            ],
            "execution_count": 49
        },
        {
            "cell_type": "code",
            "source": [
                "correlation_matrix = filtered.corr(method='pearson')\n",
                "sns.heatmap(correlation_matrix, annot=True)\n",
                "plt.title('Correlation Matrix for Numeric Features')\n",
                "plt.show()"
            ],
            "metadata": {
                "colab": {
                    "base_uri": "https://localhost:8080/",
                    "height": 340
                },
                "id": "PuEP_8TxK2N_",
                "outputId": "957defd8-6278-421c-93bb-d962bfaa702c",
                "azdata_cell_guid": "36a42630-4a74-4682-ba50-eede2d1a538f",
                "language": "python"
            },
            "outputs": [
                {
                    "output_type": "display_data",
                    "data": {
                        "text/plain": "<Figure size 432x288 with 2 Axes>",
                        "image/png": "[encoded data removed]"
                    },
                    "metadata": {
                        "needs_background": "light"
                    }
                }
            ],
            "execution_count": 50
        },
        {
            "cell_type": "markdown",
            "source": [
                "1. **PRODUCT**"
            ],
            "metadata": {
                "id": "pU6Rioh9EY_J",
                "azdata_cell_guid": "a3e7407b-f73f-454f-bfff-bc8c3e23a7c7"
            }
        },
        {
            "cell_type": "markdown",
            "source": [
                "TOP TEN MOST SOLD PRODUCTS"
            ],
            "metadata": {
                "id": "oUTbavxZEjWH",
                "azdata_cell_guid": "b44ae7b4-b1a5-4bc0-9bd1-f8da0abd0c86"
            }
        },
        {
            "cell_type": "code",
            "source": [
                "# MSP = MOST SOLD PRODUCTS\n",
                "msp = filtered.groupby('product_name').agg({'quantity': 'sum'}).sort_values('quantity', ascending=False)\n",
                "topten = msp.head(10)\n",
                "topten"
            ],
            "metadata": {
                "colab": {
                    "base_uri": "https://localhost:8080/",
                    "height": 394
                },
                "id": "k163DjgQEbla",
                "outputId": "a6763264-12bc-41fc-cb6a-c617ca560e26",
                "azdata_cell_guid": "944c9d7a-b834-40c1-82e0-4c8f332398bb",
                "language": "python"
            },
            "outputs": [
                {
                    "output_type": "execute_result",
                    "execution_count": 51,
                    "data": {
                        "text/plain": "                                       quantity\nproduct_name                                   \nStaples                                     876\nCardinal Index Tab, Clear                   337\nEldon File Cart, Single Width               321\nRogers File Cart, Single Width              262\nSanford Pencil Sharpener, Water Color       259\nStockwell Paper Clips, Assorted Sizes       253\nAvery Index Tab, Clear                      252\nIbico Index Tab, Clear                      251\nSmead File Cart, Single Width               250\nStanley Pencil Sharpener, Water Color       242",
                        "text/html": "<div>\n<style scoped>\n    .dataframe tbody tr th:only-of-type {\n        vertical-align: middle;\n    }\n\n    .dataframe tbody tr th {\n        vertical-align: top;\n    }\n\n    .dataframe thead th {\n        text-align: right;\n    }\n</style>\n<table border=\"1\" class=\"dataframe\">\n  <thead>\n    <tr style=\"text-align: right;\">\n      <th></th>\n      <th>quantity</th>\n    </tr>\n    <tr>\n      <th>product_name</th>\n      <th></th>\n    </tr>\n  </thead>\n  <tbody>\n    <tr>\n      <th>Staples</th>\n      <td>876</td>\n    </tr>\n    <tr>\n      <th>Cardinal Index Tab, Clear</th>\n      <td>337</td>\n    </tr>\n    <tr>\n      <th>Eldon File Cart, Single Width</th>\n      <td>321</td>\n    </tr>\n    <tr>\n      <th>Rogers File Cart, Single Width</th>\n      <td>262</td>\n    </tr>\n    <tr>\n      <th>Sanford Pencil Sharpener, Water Color</th>\n      <td>259</td>\n    </tr>\n    <tr>\n      <th>Stockwell Paper Clips, Assorted Sizes</th>\n      <td>253</td>\n    </tr>\n    <tr>\n      <th>Avery Index Tab, Clear</th>\n      <td>252</td>\n    </tr>\n    <tr>\n      <th>Ibico Index Tab, Clear</th>\n      <td>251</td>\n    </tr>\n    <tr>\n      <th>Smead File Cart, Single Width</th>\n      <td>250</td>\n    </tr>\n    <tr>\n      <th>Stanley Pencil Sharpener, Water Color</th>\n      <td>242</td>\n    </tr>\n  </tbody>\n</table>\n</div>"
                    },
                    "metadata": {}
                }
            ],
            "execution_count": 51
        },
        {
            "cell_type": "code",
            "source": [
                "sns.barplot(x = 'product_name', y = 'quantity', data = topten.reset_index() )\n",
                "plt.xticks(rotation = \"vertical\")"
            ],
            "metadata": {
                "colab": {
                    "base_uri": "https://localhost:8080/",
                    "height": 498
                },
                "id": "ly1J9fwiE4Ry",
                "outputId": "ddf12865-b312-4211-ef50-be3c8d391d32",
                "azdata_cell_guid": "58b4c179-b735-4e3d-862c-1ade725751e6",
                "language": "python"
            },
            "outputs": [
                {
                    "output_type": "display_data",
                    "data": {
                        "text/plain": "<Figure size 432x288 with 1 Axes>",
                        "image/png": "[encoded data removed]"
                    },
                    "metadata": {
                        "needs_background": "light"
                    }
                },
                {
                    "output_type": "execute_result",
                    "execution_count": 52,
                    "data": {
                        "text/plain": "(array([0, 1, 2, 3, 4, 5, 6, 7, 8, 9]),\n [Text(0, 0, 'Staples'),\n  Text(1, 0, 'Cardinal Index Tab, Clear'),\n  Text(2, 0, 'Eldon File Cart, Single Width'),\n  Text(3, 0, 'Rogers File Cart, Single Width'),\n  Text(4, 0, 'Sanford Pencil Sharpener, Water Color'),\n  Text(5, 0, 'Stockwell Paper Clips, Assorted Sizes'),\n  Text(6, 0, 'Avery Index Tab, Clear'),\n  Text(7, 0, 'Ibico Index Tab, Clear'),\n  Text(8, 0, 'Smead File Cart, Single Width'),\n  Text(9, 0, 'Stanley Pencil Sharpener, Water Color')])"
                    },
                    "metadata": {}
                }
            ],
            "execution_count": 52
        },
        {
            "cell_type": "code",
            "source": [
                "# Most profitable product\n",
                "mpp = filtered.groupby('product_name').agg({'profit': 'sum'}).sort_values('profit', ascending=False).head(10)\n",
                "mpp"
            ],
            "metadata": {
                "id": "_AMFWi8iE-gQ",
                "colab": {
                    "base_uri": "https://localhost:8080/",
                    "height": 394
                },
                "outputId": "a04b40ad-e03a-4098-e353-0216b2b86cb9",
                "azdata_cell_guid": "6b57c873-3339-4882-a0bc-09c4a5479518",
                "language": "python"
            },
            "outputs": [
                {
                    "output_type": "execute_result",
                    "execution_count": 53,
                    "data": {
                        "text/plain": "                                                        profit\nproduct_name                                                  \nCanon imageCLASS 2200 Advanced Copier               25199.9280\nCisco Smart Phone, Full Size                        17238.5206\nMotorola Smart Phone, Full Size                     17027.1130\nHoover Stove, Red                                   11807.9690\nSauder Classic Bookcase, Traditional                10672.0730\nHarbour Creations Executive Leather Armchair, A...  10427.3260\nNokia Smart Phone, Full Size                         9938.1955\nCisco Smart Phone, with Caller ID                    9786.6408\nNokia Smart Phone, with Caller ID                    9465.3257\nBelkin Router, USB                                   8955.0180",
                        "text/html": "<div>\n<style scoped>\n    .dataframe tbody tr th:only-of-type {\n        vertical-align: middle;\n    }\n\n    .dataframe tbody tr th {\n        vertical-align: top;\n    }\n\n    .dataframe thead th {\n        text-align: right;\n    }\n</style>\n<table border=\"1\" class=\"dataframe\">\n  <thead>\n    <tr style=\"text-align: right;\">\n      <th></th>\n      <th>profit</th>\n    </tr>\n    <tr>\n      <th>product_name</th>\n      <th></th>\n    </tr>\n  </thead>\n  <tbody>\n    <tr>\n      <th>Canon imageCLASS 2200 Advanced Copier</th>\n      <td>25199.9280</td>\n    </tr>\n    <tr>\n      <th>Cisco Smart Phone, Full Size</th>\n      <td>17238.5206</td>\n    </tr>\n    <tr>\n      <th>Motorola Smart Phone, Full Size</th>\n      <td>17027.1130</td>\n    </tr>\n    <tr>\n      <th>Hoover Stove, Red</th>\n      <td>11807.9690</td>\n    </tr>\n    <tr>\n      <th>Sauder Classic Bookcase, Traditional</th>\n      <td>10672.0730</td>\n    </tr>\n    <tr>\n      <th>Harbour Creations Executive Leather Armchair, Adjustable</th>\n      <td>10427.3260</td>\n    </tr>\n    <tr>\n      <th>Nokia Smart Phone, Full Size</th>\n      <td>9938.1955</td>\n    </tr>\n    <tr>\n      <th>Cisco Smart Phone, with Caller ID</th>\n      <td>9786.6408</td>\n    </tr>\n    <tr>\n      <th>Nokia Smart Phone, with Caller ID</th>\n      <td>9465.3257</td>\n    </tr>\n    <tr>\n      <th>Belkin Router, USB</th>\n      <td>8955.0180</td>\n    </tr>\n  </tbody>\n</table>\n</div>"
                    },
                    "metadata": {}
                }
            ],
            "execution_count": 53
        },
        {
            "cell_type": "code",
            "source": [
                "sns.barplot(x = 'product_name', y = 'profit', data = mpp.reset_index() )\n",
                "plt.xticks(rotation = \"vertical\")"
            ],
            "metadata": {
                "colab": {
                    "base_uri": "https://localhost:8080/",
                    "height": 599
                },
                "id": "EaoW99vAVd8Q",
                "outputId": "3f0b98f0-590b-400d-e55c-4df974b1dadd",
                "azdata_cell_guid": "95d63554-8dc2-4b6a-b2f6-e3477ca16dc3",
                "language": "python"
            },
            "outputs": [
                {
                    "output_type": "display_data",
                    "data": {
                        "text/plain": "<Figure size 432x288 with 1 Axes>",
                        "image/png": "[encoded data removed]"
                    },
                    "metadata": {
                        "needs_background": "light"
                    }
                },
                {
                    "output_type": "execute_result",
                    "execution_count": 54,
                    "data": {
                        "text/plain": "(array([0, 1, 2, 3, 4, 5, 6, 7, 8, 9]),\n [Text(0, 0, 'Canon imageCLASS 2200 Advanced Copier'),\n  Text(1, 0, 'Cisco Smart Phone, Full Size'),\n  Text(2, 0, 'Motorola Smart Phone, Full Size'),\n  Text(3, 0, 'Hoover Stove, Red'),\n  Text(4, 0, 'Sauder Classic Bookcase, Traditional'),\n  Text(5, 0, 'Harbour Creations Executive Leather Armchair, Adjustable'),\n  Text(6, 0, 'Nokia Smart Phone, Full Size'),\n  Text(7, 0, 'Cisco Smart Phone, with Caller ID'),\n  Text(8, 0, 'Nokia Smart Phone, with Caller ID'),\n  Text(9, 0, 'Belkin Router, USB')])"
                    },
                    "metadata": {}
                }
            ],
            "execution_count": 54
        },
        {
            "cell_type": "markdown",
            "source": [
                "2. **SEGMENT**"
            ],
            "metadata": {
                "id": "SAgixHe_WEeS",
                "azdata_cell_guid": "cad970e0-ede8-4a1e-81ca-341def726e5c"
            }
        },
        {
            "cell_type": "code",
            "source": [
                "# Mss = Most sold segment\n",
                "\n",
                "mss = filtered.groupby('segment').agg({'quantity': 'sum'}).sort_values('quantity', ascending=False).head(10)\n",
                "mss"
            ],
            "metadata": {
                "colab": {
                    "base_uri": "https://localhost:8080/",
                    "height": 175
                },
                "id": "37ykY3i0VyS0",
                "outputId": "c9be7703-bc7d-499d-a14b-446be5fc3feb",
                "azdata_cell_guid": "dc95bdf9-5d4e-4535-a805-337682e10f49",
                "language": "python"
            },
            "outputs": [
                {
                    "output_type": "execute_result",
                    "execution_count": 55,
                    "data": {
                        "text/plain": "             quantity\nsegment              \nConsumer        92157\nCorporate       53565\nHome Office     32590",
                        "text/html": "<div>\n<style scoped>\n    .dataframe tbody tr th:only-of-type {\n        vertical-align: middle;\n    }\n\n    .dataframe tbody tr th {\n        vertical-align: top;\n    }\n\n    .dataframe thead th {\n        text-align: right;\n    }\n</style>\n<table border=\"1\" class=\"dataframe\">\n  <thead>\n    <tr style=\"text-align: right;\">\n      <th></th>\n      <th>quantity</th>\n    </tr>\n    <tr>\n      <th>segment</th>\n      <th></th>\n    </tr>\n  </thead>\n  <tbody>\n    <tr>\n      <th>Consumer</th>\n      <td>92157</td>\n    </tr>\n    <tr>\n      <th>Corporate</th>\n      <td>53565</td>\n    </tr>\n    <tr>\n      <th>Home Office</th>\n      <td>32590</td>\n    </tr>\n  </tbody>\n</table>\n</div>"
                    },
                    "metadata": {}
                }
            ],
            "execution_count": 55
        },
        {
            "cell_type": "code",
            "source": [
                "sns.barplot(x = 'segment', y = 'quantity', data = mss.reset_index() )\n",
                "plt.xticks(rotation = \"horizontal\")"
            ],
            "metadata": {
                "colab": {
                    "base_uri": "https://localhost:8080/",
                    "height": 297
                },
                "id": "9vmczNAdVzVU",
                "outputId": "787891c1-4651-423d-dbec-3c74db1142ee",
                "azdata_cell_guid": "edfb0816-0694-433d-8871-05a4861733a0",
                "language": "python"
            },
            "outputs": [
                {
                    "output_type": "display_data",
                    "data": {
                        "text/plain": "<Figure size 432x288 with 1 Axes>",
                        "image/png": "[encoded data removed]"
                    },
                    "metadata": {
                        "needs_background": "light"
                    }
                },
                {
                    "output_type": "execute_result",
                    "execution_count": 56,
                    "data": {
                        "text/plain": "(array([0, 1, 2]),\n [Text(0, 0, 'Consumer'), Text(1, 0, 'Corporate'), Text(2, 0, 'Home Office')])"
                    },
                    "metadata": {}
                }
            ],
            "execution_count": 56
        },
        {
            "cell_type": "code",
            "source": [
                "# MPS = Most profitable segment\n",
                "mps = filtered.groupby('segment').agg({'profit': 'sum'}).sort_values('profit', ascending=False).head(10)\n",
                "mps"
            ],
            "metadata": {
                "colab": {
                    "base_uri": "https://localhost:8080/",
                    "height": 175
                },
                "id": "7lxtA5gVVzsh",
                "outputId": "8fda56fd-8b8f-4be3-8696-3fb64a997cdb",
                "azdata_cell_guid": "e2695aee-995a-47b5-a436-dd71b58000d7",
                "language": "python"
            },
            "outputs": [
                {
                    "output_type": "execute_result",
                    "execution_count": 57,
                    "data": {
                        "text/plain": "                   profit\nsegment                  \nConsumer     749239.78206\nCorporate    442785.85866\nHome Office  277009.18056",
                        "text/html": "<div>\n<style scoped>\n    .dataframe tbody tr th:only-of-type {\n        vertical-align: middle;\n    }\n\n    .dataframe tbody tr th {\n        vertical-align: top;\n    }\n\n    .dataframe thead th {\n        text-align: right;\n    }\n</style>\n<table border=\"1\" class=\"dataframe\">\n  <thead>\n    <tr style=\"text-align: right;\">\n      <th></th>\n      <th>profit</th>\n    </tr>\n    <tr>\n      <th>segment</th>\n      <th></th>\n    </tr>\n  </thead>\n  <tbody>\n    <tr>\n      <th>Consumer</th>\n      <td>749239.78206</td>\n    </tr>\n    <tr>\n      <th>Corporate</th>\n      <td>442785.85866</td>\n    </tr>\n    <tr>\n      <th>Home Office</th>\n      <td>277009.18056</td>\n    </tr>\n  </tbody>\n</table>\n</div>"
                    },
                    "metadata": {}
                }
            ],
            "execution_count": 57
        },
        {
            "cell_type": "code",
            "source": [
                "sns.barplot(x = 'segment', y = 'profit', data = mps.reset_index() )\n",
                "plt.xticks(rotation = \"horizontal\")"
            ],
            "metadata": {
                "colab": {
                    "base_uri": "https://localhost:8080/",
                    "height": 297
                },
                "id": "maHylHI2XCNg",
                "outputId": "f14b5589-9d05-4cd7-dae9-4a31c92abbd5",
                "azdata_cell_guid": "ce4765cb-3388-4ece-b21b-ab5521800d44",
                "language": "python"
            },
            "outputs": [
                {
                    "output_type": "display_data",
                    "data": {
                        "text/plain": "<Figure size 432x288 with 1 Axes>",
                        "image/png": "[encoded data removed]"
                    },
                    "metadata": {
                        "needs_background": "light"
                    }
                },
                {
                    "output_type": "execute_result",
                    "execution_count": 58,
                    "data": {
                        "text/plain": "(array([0, 1, 2]),\n [Text(0, 0, 'Consumer'), Text(1, 0, 'Corporate'), Text(2, 0, 'Home Office')])"
                    },
                    "metadata": {}
                }
            ],
            "execution_count": 58
        },
        {
            "cell_type": "code",
            "source": [
                "# SCS = average Shipping Cost per Segment\n",
                "\n",
                "scs = filtered.groupby('segment').agg({'shipping_cost': 'mean'}).sort_values('shipping_cost', ascending=False).head(10)\n",
                "scs"
            ],
            "metadata": {
                "colab": {
                    "base_uri": "https://localhost:8080/",
                    "height": 175
                },
                "id": "OtsFGx6PXM2Y",
                "outputId": "b92cdfb1-66b3-40dd-822b-87914aa78f9f",
                "azdata_cell_guid": "36b27053-acda-46a4-82be-1bae8aef154a",
                "language": "python"
            },
            "outputs": [
                {
                    "output_type": "execute_result",
                    "execution_count": 59,
                    "data": {
                        "text/plain": "             shipping_cost\nsegment                   \nCorporate        26.603987\nConsumer         26.295276\nHome Office      26.227622",
                        "text/html": "<div>\n<style scoped>\n    .dataframe tbody tr th:only-of-type {\n        vertical-align: middle;\n    }\n\n    .dataframe tbody tr th {\n        vertical-align: top;\n    }\n\n    .dataframe thead th {\n        text-align: right;\n    }\n</style>\n<table border=\"1\" class=\"dataframe\">\n  <thead>\n    <tr style=\"text-align: right;\">\n      <th></th>\n      <th>shipping_cost</th>\n    </tr>\n    <tr>\n      <th>segment</th>\n      <th></th>\n    </tr>\n  </thead>\n  <tbody>\n    <tr>\n      <th>Corporate</th>\n      <td>26.603987</td>\n    </tr>\n    <tr>\n      <th>Consumer</th>\n      <td>26.295276</td>\n    </tr>\n    <tr>\n      <th>Home Office</th>\n      <td>26.227622</td>\n    </tr>\n  </tbody>\n</table>\n</div>"
                    },
                    "metadata": {}
                }
            ],
            "execution_count": 59
        },
        {
            "cell_type": "code",
            "source": [
                "# SCS = Average Delivery time per Segment\n",
                "\n",
                "ads = filtered.groupby('segment').agg({'diff_date': 'mean'}).sort_values('diff_date', ascending=False).round(2).head(10)\n",
                "ads"
            ],
            "metadata": {
                "colab": {
                    "base_uri": "https://localhost:8080/",
                    "height": 175
                },
                "id": "G7M_isnvXt0e",
                "outputId": "5af57a71-72a3-44e3-b148-ea2eaba29907",
                "azdata_cell_guid": "feef3ee8-09b2-41e3-97ef-cbfce523af05",
                "language": "python"
            },
            "outputs": [
                {
                    "output_type": "execute_result",
                    "execution_count": 60,
                    "data": {
                        "text/plain": "             diff_date\nsegment               \nCorporate         3.99\nHome Office       3.97\nConsumer          3.95",
                        "text/html": "<div>\n<style scoped>\n    .dataframe tbody tr th:only-of-type {\n        vertical-align: middle;\n    }\n\n    .dataframe tbody tr th {\n        vertical-align: top;\n    }\n\n    .dataframe thead th {\n        text-align: right;\n    }\n</style>\n<table border=\"1\" class=\"dataframe\">\n  <thead>\n    <tr style=\"text-align: right;\">\n      <th></th>\n      <th>diff_date</th>\n    </tr>\n    <tr>\n      <th>segment</th>\n      <th></th>\n    </tr>\n  </thead>\n  <tbody>\n    <tr>\n      <th>Corporate</th>\n      <td>3.99</td>\n    </tr>\n    <tr>\n      <th>Home Office</th>\n      <td>3.97</td>\n    </tr>\n    <tr>\n      <th>Consumer</th>\n      <td>3.95</td>\n    </tr>\n  </tbody>\n</table>\n</div>"
                    },
                    "metadata": {}
                }
            ],
            "execution_count": 60
        },
        {
            "cell_type": "markdown",
            "source": [
                "3. **SHIP MODE**"
            ],
            "metadata": {
                "id": "ZbSchxX71WEY",
                "azdata_cell_guid": "3cdf5a63-a001-40ad-81d7-201f35c73584"
            }
        },
        {
            "cell_type": "code",
            "source": [
                "# Most used Ship Mode\n",
                "\n",
                "scs = filtered.groupby('ship_mode').agg({'quantity': 'sum'}).sort_values('quantity', ascending=False).head(10)\n",
                "scs"
            ],
            "metadata": {
                "colab": {
                    "base_uri": "https://localhost:8080/",
                    "height": 206
                },
                "id": "oAKSKzgQYc4q",
                "outputId": "a21eca8a-b433-40cd-dc86-430584827596",
                "azdata_cell_guid": "b3a7feac-d2d9-49ef-9908-c6ae7abd89b0",
                "language": "python"
            },
            "outputs": [
                {
                    "output_type": "execute_result",
                    "execution_count": 61,
                    "data": {
                        "text/plain": "                quantity\nship_mode               \nStandard Class    107319\nSecond Class       35724\nFirst Class        26039\nSame Day            9230",
                        "text/html": "<div>\n<style scoped>\n    .dataframe tbody tr th:only-of-type {\n        vertical-align: middle;\n    }\n\n    .dataframe tbody tr th {\n        vertical-align: top;\n    }\n\n    .dataframe thead th {\n        text-align: right;\n    }\n</style>\n<table border=\"1\" class=\"dataframe\">\n  <thead>\n    <tr style=\"text-align: right;\">\n      <th></th>\n      <th>quantity</th>\n    </tr>\n    <tr>\n      <th>ship_mode</th>\n      <th></th>\n    </tr>\n  </thead>\n  <tbody>\n    <tr>\n      <th>Standard Class</th>\n      <td>107319</td>\n    </tr>\n    <tr>\n      <th>Second Class</th>\n      <td>35724</td>\n    </tr>\n    <tr>\n      <th>First Class</th>\n      <td>26039</td>\n    </tr>\n    <tr>\n      <th>Same Day</th>\n      <td>9230</td>\n    </tr>\n  </tbody>\n</table>\n</div>"
                    },
                    "metadata": {}
                }
            ],
            "execution_count": 61
        },
        {
            "cell_type": "code",
            "source": [
                "# Costliest ship mode\n",
                "\n",
                "csm = filtered.groupby('ship_mode').agg({'shipping_cost': 'sum'}).sort_values('shipping_cost', ascending=False).round(2).head(10)\n",
                "csm"
            ],
            "metadata": {
                "colab": {
                    "base_uri": "https://localhost:8080/",
                    "height": 206
                },
                "id": "0H5DGM03ZpIx",
                "outputId": "ed51d9f2-09aa-47d4-ac84-ab6532a1744f",
                "azdata_cell_guid": "5f9340ca-0396-465f-90e7-d5d38c2ee28d",
                "language": "python"
            },
            "outputs": [
                {
                    "output_type": "execute_result",
                    "execution_count": 62,
                    "data": {
                        "text/plain": "                shipping_cost\nship_mode                    \nStandard Class      614627.66\nSecond Class        314111.79\nFirst Class         308102.54\nSame Day            115973.72",
                        "text/html": "<div>\n<style scoped>\n    .dataframe tbody tr th:only-of-type {\n        vertical-align: middle;\n    }\n\n    .dataframe tbody tr th {\n        vertical-align: top;\n    }\n\n    .dataframe thead th {\n        text-align: right;\n    }\n</style>\n<table border=\"1\" class=\"dataframe\">\n  <thead>\n    <tr style=\"text-align: right;\">\n      <th></th>\n      <th>shipping_cost</th>\n    </tr>\n    <tr>\n      <th>ship_mode</th>\n      <th></th>\n    </tr>\n  </thead>\n  <tbody>\n    <tr>\n      <th>Standard Class</th>\n      <td>614627.66</td>\n    </tr>\n    <tr>\n      <th>Second Class</th>\n      <td>314111.79</td>\n    </tr>\n    <tr>\n      <th>First Class</th>\n      <td>308102.54</td>\n    </tr>\n    <tr>\n      <th>Same Day</th>\n      <td>115973.72</td>\n    </tr>\n  </tbody>\n</table>\n</div>"
                    },
                    "metadata": {}
                }
            ],
            "execution_count": 62
        },
        {
            "cell_type": "code",
            "source": [
                "# Ship Cost and Quantity\n",
                "scq = pd.merge(scs, csm, on='ship_mode')\n",
                "scq"
            ],
            "metadata": {
                "colab": {
                    "base_uri": "https://localhost:8080/",
                    "height": 206
                },
                "id": "skJX1kBKcBev",
                "outputId": "bd04cbac-527c-479b-faf7-137caf0fef09",
                "azdata_cell_guid": "0c34afcf-a1e2-48d9-a611-7630205fe64b",
                "language": "python"
            },
            "outputs": [
                {
                    "output_type": "execute_result",
                    "execution_count": 63,
                    "data": {
                        "text/plain": "                quantity  shipping_cost\nship_mode                              \nStandard Class    107319      614627.66\nSecond Class       35724      314111.79\nFirst Class        26039      308102.54\nSame Day            9230      115973.72",
                        "text/html": "<div>\n<style scoped>\n    .dataframe tbody tr th:only-of-type {\n        vertical-align: middle;\n    }\n\n    .dataframe tbody tr th {\n        vertical-align: top;\n    }\n\n    .dataframe thead th {\n        text-align: right;\n    }\n</style>\n<table border=\"1\" class=\"dataframe\">\n  <thead>\n    <tr style=\"text-align: right;\">\n      <th></th>\n      <th>quantity</th>\n      <th>shipping_cost</th>\n    </tr>\n    <tr>\n      <th>ship_mode</th>\n      <th></th>\n      <th></th>\n    </tr>\n  </thead>\n  <tbody>\n    <tr>\n      <th>Standard Class</th>\n      <td>107319</td>\n      <td>614627.66</td>\n    </tr>\n    <tr>\n      <th>Second Class</th>\n      <td>35724</td>\n      <td>314111.79</td>\n    </tr>\n    <tr>\n      <th>First Class</th>\n      <td>26039</td>\n      <td>308102.54</td>\n    </tr>\n    <tr>\n      <th>Same Day</th>\n      <td>9230</td>\n      <td>115973.72</td>\n    </tr>\n  </tbody>\n</table>\n</div>"
                    },
                    "metadata": {}
                }
            ],
            "execution_count": 63
        },
        {
            "cell_type": "code",
            "source": [
                "scq['average'] = scq['shipping_cost'] / scq['quantity']\n",
                "scq.round(2)"
            ],
            "metadata": {
                "colab": {
                    "base_uri": "https://localhost:8080/",
                    "height": 206
                },
                "id": "bGS57wj3ckZ0",
                "outputId": "9365819f-8781-4f39-c5f2-0b5f79eb9135",
                "azdata_cell_guid": "ff491a98-7611-405e-831d-53a0103b028f",
                "language": "python"
            },
            "outputs": [
                {
                    "output_type": "execute_result",
                    "execution_count": 64,
                    "data": {
                        "text/plain": "                quantity  shipping_cost  average\nship_mode                                       \nStandard Class    107319      614627.66     5.73\nSecond Class       35724      314111.79     8.79\nFirst Class        26039      308102.54    11.83\nSame Day            9230      115973.72    12.56",
                        "text/html": "<div>\n<style scoped>\n    .dataframe tbody tr th:only-of-type {\n        vertical-align: middle;\n    }\n\n    .dataframe tbody tr th {\n        vertical-align: top;\n    }\n\n    .dataframe thead th {\n        text-align: right;\n    }\n</style>\n<table border=\"1\" class=\"dataframe\">\n  <thead>\n    <tr style=\"text-align: right;\">\n      <th></th>\n      <th>quantity</th>\n      <th>shipping_cost</th>\n      <th>average</th>\n    </tr>\n    <tr>\n      <th>ship_mode</th>\n      <th></th>\n      <th></th>\n      <th></th>\n    </tr>\n  </thead>\n  <tbody>\n    <tr>\n      <th>Standard Class</th>\n      <td>107319</td>\n      <td>614627.66</td>\n      <td>5.73</td>\n    </tr>\n    <tr>\n      <th>Second Class</th>\n      <td>35724</td>\n      <td>314111.79</td>\n      <td>8.79</td>\n    </tr>\n    <tr>\n      <th>First Class</th>\n      <td>26039</td>\n      <td>308102.54</td>\n      <td>11.83</td>\n    </tr>\n    <tr>\n      <th>Same Day</th>\n      <td>9230</td>\n      <td>115973.72</td>\n      <td>12.56</td>\n    </tr>\n  </tbody>\n</table>\n</div>"
                    },
                    "metadata": {}
                }
            ],
            "execution_count": 64
        },
        {
            "cell_type": "code",
            "source": [
                "ssqsc = filtered.groupby(['segment', 'ship_mode'])['quantity'].aggregate(['sum','count'])\n",
                "ssqsc"
            ],
            "metadata": {
                "colab": {
                    "base_uri": "https://localhost:8080/",
                    "height": 457
                },
                "id": "BgETkEY0jOtc",
                "outputId": "16ca8523-9d7a-4ecf-fd15-030ea183c9a5",
                "azdata_cell_guid": "0c8dabeb-5fc2-4077-b72c-2a9133b54bf9",
                "language": "python"
            },
            "outputs": [
                {
                    "output_type": "execute_result",
                    "execution_count": 65,
                    "data": {
                        "text/plain": "                              sum  count\nsegment     ship_mode                   \nConsumer    First Class     13595   3918\n            Same Day         4985   1467\n            Second Class    18099   5257\n            Standard Class  55478  15876\nCorporate   First Class      7781   2245\n            Same Day         2515    728\n            Second Class    11215   3198\n            Standard Class  32054   9258\nHome Office First Class      4663   1342\n            Same Day         1730    506\n            Second Class     6410   1854\n            Standard Class  19787   5641",
                        "text/html": "<div>\n<style scoped>\n    .dataframe tbody tr th:only-of-type {\n        vertical-align: middle;\n    }\n\n    .dataframe tbody tr th {\n        vertical-align: top;\n    }\n\n    .dataframe thead th {\n        text-align: right;\n    }\n</style>\n<table border=\"1\" class=\"dataframe\">\n  <thead>\n    <tr style=\"text-align: right;\">\n      <th></th>\n      <th></th>\n      <th>sum</th>\n      <th>count</th>\n    </tr>\n    <tr>\n      <th>segment</th>\n      <th>ship_mode</th>\n      <th></th>\n      <th></th>\n    </tr>\n  </thead>\n  <tbody>\n    <tr>\n      <th rowspan=\"4\" valign=\"top\">Consumer</th>\n      <th>First Class</th>\n      <td>13595</td>\n      <td>3918</td>\n    </tr>\n    <tr>\n      <th>Same Day</th>\n      <td>4985</td>\n      <td>1467</td>\n    </tr>\n    <tr>\n      <th>Second Class</th>\n      <td>18099</td>\n      <td>5257</td>\n    </tr>\n    <tr>\n      <th>Standard Class</th>\n      <td>55478</td>\n      <td>15876</td>\n    </tr>\n    <tr>\n      <th rowspan=\"4\" valign=\"top\">Corporate</th>\n      <th>First Class</th>\n      <td>7781</td>\n      <td>2245</td>\n    </tr>\n    <tr>\n      <th>Same Day</th>\n      <td>2515</td>\n      <td>728</td>\n    </tr>\n    <tr>\n      <th>Second Class</th>\n      <td>11215</td>\n      <td>3198</td>\n    </tr>\n    <tr>\n      <th>Standard Class</th>\n      <td>32054</td>\n      <td>9258</td>\n    </tr>\n    <tr>\n      <th rowspan=\"4\" valign=\"top\">Home Office</th>\n      <th>First Class</th>\n      <td>4663</td>\n      <td>1342</td>\n    </tr>\n    <tr>\n      <th>Same Day</th>\n      <td>1730</td>\n      <td>506</td>\n    </tr>\n    <tr>\n      <th>Second Class</th>\n      <td>6410</td>\n      <td>1854</td>\n    </tr>\n    <tr>\n      <th>Standard Class</th>\n      <td>19787</td>\n      <td>5641</td>\n    </tr>\n  </tbody>\n</table>\n</div>"
                    },
                    "metadata": {}
                }
            ],
            "execution_count": 65
        },
        {
            "cell_type": "markdown",
            "source": [
                "4. **REGION**"
            ],
            "metadata": {
                "id": "Y49uVAO0fh1o",
                "azdata_cell_guid": "df46c9ff-c5c9-41b8-96d1-0b0e2dfbe51e"
            }
        },
        {
            "cell_type": "code",
            "source": [
                "# Region with the Most Purchases\n",
                "rmp = filtered.groupby('region').agg({'quantity': 'sum'}).sort_values('quantity', ascending=False).head(10)\n",
                "rmp"
            ],
            "metadata": {
                "colab": {
                    "base_uri": "https://localhost:8080/",
                    "height": 394
                },
                "id": "FzIIQH5jcl1I",
                "outputId": "8715ae51-a23a-483a-8e5c-a22b1da0deb8",
                "azdata_cell_guid": "68448ede-9b0a-4cbb-a137-59e124ab9eab",
                "language": "python"
            },
            "outputs": [
                {
                    "output_type": "execute_result",
                    "execution_count": 66,
                    "data": {
                        "text/plain": "                quantity\nregion                  \nCentral            41762\nSouth              25206\nNorth              18021\nOceania            12838\nWest               12266\nSoutheast Asia     11822\nEMEA               11517\nEast               10618\nAfrica             10564\nNorth Asia          8851",
                        "text/html": "<div>\n<style scoped>\n    .dataframe tbody tr th:only-of-type {\n        vertical-align: middle;\n    }\n\n    .dataframe tbody tr th {\n        vertical-align: top;\n    }\n\n    .dataframe thead th {\n        text-align: right;\n    }\n</style>\n<table border=\"1\" class=\"dataframe\">\n  <thead>\n    <tr style=\"text-align: right;\">\n      <th></th>\n      <th>quantity</th>\n    </tr>\n    <tr>\n      <th>region</th>\n      <th></th>\n    </tr>\n  </thead>\n  <tbody>\n    <tr>\n      <th>Central</th>\n      <td>41762</td>\n    </tr>\n    <tr>\n      <th>South</th>\n      <td>25206</td>\n    </tr>\n    <tr>\n      <th>North</th>\n      <td>18021</td>\n    </tr>\n    <tr>\n      <th>Oceania</th>\n      <td>12838</td>\n    </tr>\n    <tr>\n      <th>West</th>\n      <td>12266</td>\n    </tr>\n    <tr>\n      <th>Southeast Asia</th>\n      <td>11822</td>\n    </tr>\n    <tr>\n      <th>EMEA</th>\n      <td>11517</td>\n    </tr>\n    <tr>\n      <th>East</th>\n      <td>10618</td>\n    </tr>\n    <tr>\n      <th>Africa</th>\n      <td>10564</td>\n    </tr>\n    <tr>\n      <th>North Asia</th>\n      <td>8851</td>\n    </tr>\n  </tbody>\n</table>\n</div>"
                    },
                    "metadata": {}
                }
            ],
            "execution_count": 66
        },
        {
            "cell_type": "code",
            "source": [
                "rsqsc = filtered.groupby(['region', 'ship_mode'])['quantity'].aggregate(['sum','count'])"
            ],
            "metadata": {
                "id": "cG3y3FOKcuJv",
                "azdata_cell_guid": "8dfd9a23-cd1e-4230-b675-fe4341bf7c69",
                "language": "python"
            },
            "outputs": [],
            "execution_count": 67
        },
        {
            "cell_type": "code",
            "source": [
                "rsqsc"
            ],
            "metadata": {
                "colab": {
                    "base_uri": "https://localhost:8080/",
                    "height": 1000
                },
                "id": "uyF71w4fh5XG",
                "outputId": "3a3df2ff-7fb0-4fad-aa16-d0a685c23d5e",
                "azdata_cell_guid": "3cfc482f-7461-4817-b0aa-1db63e4c0803",
                "language": "python"
            },
            "outputs": [
                {
                    "output_type": "execute_result",
                    "execution_count": 68,
                    "data": {
                        "text/plain": "                                 sum  count\nregion         ship_mode                   \nAfrica         First Class      1585    679\n               Same Day          595    257\n               Second Class     2249    992\n               Standard Class   6135   2659\nCanada         First Class       139     70\n               Same Day           70     29\n               Second Class      200     91\n               Standard Class    424    194\nCaribbean      First Class       894    231\n               Same Day          319     85\n               Second Class     1438    372\n               Standard Class   3648   1002\nCentral        First Class      6062   1593\n               Same Day         2049    568\n               Second Class     8180   2176\n               Standard Class  25471   6780\nCentral Asia   First Class       944    252\n               Same Day          295     79\n               Second Class     1690    440\n               Standard Class   4786   1277\nEMEA           First Class      1603    700\n               Same Day          694    300\n               Second Class     2263    993\n               Standard Class   6957   3036\nEast           First Class      1805    490\n               Same Day          573    155\n               Second Class     2026    530\n               Standard Class   6214   1673\nNorth          First Class      2584    684\n               Same Day          924    246\n               Second Class     3605    954\n               Standard Class  10908   2901\nNorth Asia     First Class      1417    385\n               Same Day          382    106\n               Second Class     1739    470\n               Standard Class   5313   1377\nOceania        First Class      1663    455\n               Same Day          732    205\n               Second Class     2807    779\n               Standard Class   7636   2048\nSouth          First Class      3594    958\n               Same Day         1358    341\n               Second Class     5217   1368\n               Standard Class  15037   3978\nSoutheast Asia First Class      1847    493\n               Same Day          568    145\n               Second Class     2002    523\n               Standard Class   7405   1968\nWest           First Class      1902    515\n               Same Day          671    185\n               Second Class     2308    621\n               Standard Class   7385   1882",
                        "text/html": "<div>\n<style scoped>\n    .dataframe tbody tr th:only-of-type {\n        vertical-align: middle;\n    }\n\n    .dataframe tbody tr th {\n        vertical-align: top;\n    }\n\n    .dataframe thead th {\n        text-align: right;\n    }\n</style>\n<table border=\"1\" class=\"dataframe\">\n  <thead>\n    <tr style=\"text-align: right;\">\n      <th></th>\n      <th></th>\n      <th>sum</th>\n      <th>count</th>\n    </tr>\n    <tr>\n      <th>region</th>\n      <th>ship_mode</th>\n      <th></th>\n      <th></th>\n    </tr>\n  </thead>\n  <tbody>\n    <tr>\n      <th rowspan=\"4\" valign=\"top\">Africa</th>\n      <th>First Class</th>\n      <td>1585</td>\n      <td>679</td>\n    </tr>\n    <tr>\n      <th>Same Day</th>\n      <td>595</td>\n      <td>257</td>\n    </tr>\n    <tr>\n      <th>Second Class</th>\n      <td>2249</td>\n      <td>992</td>\n    </tr>\n    <tr>\n      <th>Standard Class</th>\n      <td>6135</td>\n      <td>2659</td>\n    </tr>\n    <tr>\n      <th rowspan=\"4\" valign=\"top\">Canada</th>\n      <th>First Class</th>\n      <td>139</td>\n      <td>70</td>\n    </tr>\n    <tr>\n      <th>Same Day</th>\n      <td>70</td>\n      <td>29</td>\n    </tr>\n    <tr>\n      <th>Second Class</th>\n      <td>200</td>\n      <td>91</td>\n    </tr>\n    <tr>\n      <th>Standard Class</th>\n      <td>424</td>\n      <td>194</td>\n    </tr>\n    <tr>\n      <th rowspan=\"4\" valign=\"top\">Caribbean</th>\n      <th>First Class</th>\n      <td>894</td>\n      <td>231</td>\n    </tr>\n    <tr>\n      <th>Same Day</th>\n      <td>319</td>\n      <td>85</td>\n    </tr>\n    <tr>\n      <th>Second Class</th>\n      <td>1438</td>\n      <td>372</td>\n    </tr>\n    <tr>\n      <th>Standard Class</th>\n      <td>3648</td>\n      <td>1002</td>\n    </tr>\n    <tr>\n      <th rowspan=\"4\" valign=\"top\">Central</th>\n      <th>First Class</th>\n      <td>6062</td>\n      <td>1593</td>\n    </tr>\n    <tr>\n      <th>Same Day</th>\n      <td>2049</td>\n      <td>568</td>\n    </tr>\n    <tr>\n      <th>Second Class</th>\n      <td>8180</td>\n      <td>2176</td>\n    </tr>\n    <tr>\n      <th>Standard Class</th>\n      <td>25471</td>\n      <td>6780</td>\n    </tr>\n    <tr>\n      <th rowspan=\"4\" valign=\"top\">Central Asia</th>\n      <th>First Class</th>\n      <td>944</td>\n      <td>252</td>\n    </tr>\n    <tr>\n      <th>Same Day</th>\n      <td>295</td>\n      <td>79</td>\n    </tr>\n    <tr>\n      <th>Second Class</th>\n      <td>1690</td>\n      <td>440</td>\n    </tr>\n    <tr>\n      <th>Standard Class</th>\n      <td>4786</td>\n      <td>1277</td>\n    </tr>\n    <tr>\n      <th rowspan=\"4\" valign=\"top\">EMEA</th>\n      <th>First Class</th>\n      <td>1603</td>\n      <td>700</td>\n    </tr>\n    <tr>\n      <th>Same Day</th>\n      <td>694</td>\n      <td>300</td>\n    </tr>\n    <tr>\n      <th>Second Class</th>\n      <td>2263</td>\n      <td>993</td>\n    </tr>\n    <tr>\n      <th>Standard Class</th>\n      <td>6957</td>\n      <td>3036</td>\n    </tr>\n    <tr>\n      <th rowspan=\"4\" valign=\"top\">East</th>\n      <th>First Class</th>\n      <td>1805</td>\n      <td>490</td>\n    </tr>\n    <tr>\n      <th>Same Day</th>\n      <td>573</td>\n      <td>155</td>\n    </tr>\n    <tr>\n      <th>Second Class</th>\n      <td>2026</td>\n      <td>530</td>\n    </tr>\n    <tr>\n      <th>Standard Class</th>\n      <td>6214</td>\n      <td>1673</td>\n    </tr>\n    <tr>\n      <th rowspan=\"4\" valign=\"top\">North</th>\n      <th>First Class</th>\n      <td>2584</td>\n      <td>684</td>\n    </tr>\n    <tr>\n      <th>Same Day</th>\n      <td>924</td>\n      <td>246</td>\n    </tr>\n    <tr>\n      <th>Second Class</th>\n      <td>3605</td>\n      <td>954</td>\n    </tr>\n    <tr>\n      <th>Standard Class</th>\n      <td>10908</td>\n      <td>2901</td>\n    </tr>\n    <tr>\n      <th rowspan=\"4\" valign=\"top\">North Asia</th>\n      <th>First Class</th>\n      <td>1417</td>\n      <td>385</td>\n    </tr>\n    <tr>\n      <th>Same Day</th>\n      <td>382</td>\n      <td>106</td>\n    </tr>\n    <tr>\n      <th>Second Class</th>\n      <td>1739</td>\n      <td>470</td>\n    </tr>\n    <tr>\n      <th>Standard Class</th>\n      <td>5313</td>\n      <td>1377</td>\n    </tr>\n    <tr>\n      <th rowspan=\"4\" valign=\"top\">Oceania</th>\n      <th>First Class</th>\n      <td>1663</td>\n      <td>455</td>\n    </tr>\n    <tr>\n      <th>Same Day</th>\n      <td>732</td>\n      <td>205</td>\n    </tr>\n    <tr>\n      <th>Second Class</th>\n      <td>2807</td>\n      <td>779</td>\n    </tr>\n    <tr>\n      <th>Standard Class</th>\n      <td>7636</td>\n      <td>2048</td>\n    </tr>\n    <tr>\n      <th rowspan=\"4\" valign=\"top\">South</th>\n      <th>First Class</th>\n      <td>3594</td>\n      <td>958</td>\n    </tr>\n    <tr>\n      <th>Same Day</th>\n      <td>1358</td>\n      <td>341</td>\n    </tr>\n    <tr>\n      <th>Second Class</th>\n      <td>5217</td>\n      <td>1368</td>\n    </tr>\n    <tr>\n      <th>Standard Class</th>\n      <td>15037</td>\n      <td>3978</td>\n    </tr>\n    <tr>\n      <th rowspan=\"4\" valign=\"top\">Southeast Asia</th>\n      <th>First Class</th>\n      <td>1847</td>\n      <td>493</td>\n    </tr>\n    <tr>\n      <th>Same Day</th>\n      <td>568</td>\n      <td>145</td>\n    </tr>\n    <tr>\n      <th>Second Class</th>\n      <td>2002</td>\n      <td>523</td>\n    </tr>\n    <tr>\n      <th>Standard Class</th>\n      <td>7405</td>\n      <td>1968</td>\n    </tr>\n    <tr>\n      <th rowspan=\"4\" valign=\"top\">West</th>\n      <th>First Class</th>\n      <td>1902</td>\n      <td>515</td>\n    </tr>\n    <tr>\n      <th>Same Day</th>\n      <td>671</td>\n      <td>185</td>\n    </tr>\n    <tr>\n      <th>Second Class</th>\n      <td>2308</td>\n      <td>621</td>\n    </tr>\n    <tr>\n      <th>Standard Class</th>\n      <td>7385</td>\n      <td>1882</td>\n    </tr>\n  </tbody>\n</table>\n</div>"
                    },
                    "metadata": {}
                }
            ],
            "execution_count": 68
        },
        {
            "cell_type": "code",
            "source": [
                "mpy = filtered.groupby('year').agg({'profit': 'sum'}).sort_values('year', ascending=False).head(10)\r\n",
                "mpy"
            ],
            "metadata": {
                "id": "YT95Gh_1jgB_",
                "azdata_cell_guid": "d0c19d4e-ff97-48bc-a1b9-0a56ec9f3e9f",
                "language": "python"
            },
            "outputs": [
                {
                    "output_type": "execute_result",
                    "execution_count": 69,
                    "data": {
                        "text/plain": "            profit\nyear              \n2014  504165.97046\n2013  408512.76018\n2012  307415.27910\n2011  248940.81154",
                        "text/html": "<div>\n<style scoped>\n    .dataframe tbody tr th:only-of-type {\n        vertical-align: middle;\n    }\n\n    .dataframe tbody tr th {\n        vertical-align: top;\n    }\n\n    .dataframe thead th {\n        text-align: right;\n    }\n</style>\n<table border=\"1\" class=\"dataframe\">\n  <thead>\n    <tr style=\"text-align: right;\">\n      <th></th>\n      <th>profit</th>\n    </tr>\n    <tr>\n      <th>year</th>\n      <th></th>\n    </tr>\n  </thead>\n  <tbody>\n    <tr>\n      <th>2014</th>\n      <td>504165.97046</td>\n    </tr>\n    <tr>\n      <th>2013</th>\n      <td>408512.76018</td>\n    </tr>\n    <tr>\n      <th>2012</th>\n      <td>307415.27910</td>\n    </tr>\n    <tr>\n      <th>2011</th>\n      <td>248940.81154</td>\n    </tr>\n  </tbody>\n</table>\n</div>"
                    },
                    "metadata": {}
                }
            ],
            "execution_count": 69
        },
        {
            "cell_type": "code",
            "source": [
                ""
            ],
            "metadata": {
                "azdata_cell_guid": "c8003110-a7b3-4f51-a357-609aa46948e6",
                "language": "python"
            },
            "outputs": [],
            "execution_count": 69
        },
        {
            "cell_type": "code",
            "source": [
                ""
            ],
            "metadata": {
                "azdata_cell_guid": "c8940584-1ee6-40db-ae4a-d78a5eda243c",
                "language": "python"
            },
            "outputs": [],
            "execution_count": 69
        },
        {
            "cell_type": "code",
            "source": [
                ""
            ],
            "metadata": {
                "azdata_cell_guid": "787d919c-3f2d-426f-9567-b5a7cb63b5f3",
                "language": "python"
            },
            "outputs": [],
            "execution_count": 69
        },
        {
            "cell_type": "code",
            "source": [
                ""
            ],
            "metadata": {
                "azdata_cell_guid": "fa01f772-3f92-4127-8317-3aa880776655",
                "language": "python"
            },
            "outputs": [],
            "execution_count": 69
        },
        {
            "cell_type": "code",
            "source": [
                ""
            ],
            "metadata": {
                "azdata_cell_guid": "396b567b-b5cb-4943-942b-295c05fd2bbd",
                "language": "python"
            },
            "outputs": [],
            "execution_count": 69
        },
        {
            "cell_type": "code",
            "source": [
                ""
            ],
            "metadata": {
                "azdata_cell_guid": "6f9690f9-fa2f-4010-82af-aeb649923800",
                "language": "python"
            },
            "outputs": [],
            "execution_count": 69
        },
        {
            "cell_type": "code",
            "source": [
                ""
            ],
            "metadata": {
                "azdata_cell_guid": "876c81ea-01ca-44ef-bca1-c46103a424d8",
                "language": "python"
            },
            "outputs": [],
            "execution_count": 69
        },
        {
            "cell_type": "code",
            "source": [
                ""
            ],
            "metadata": {
                "azdata_cell_guid": "d2101d9f-0c89-4eba-9c30-b730813bcc6e",
                "language": "python"
            },
            "outputs": [],
            "execution_count": 69
        }
    ]
}